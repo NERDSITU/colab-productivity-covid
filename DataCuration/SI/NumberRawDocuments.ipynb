{
 "cells": [
  {
   "cell_type": "code",
   "execution_count": null,
   "id": "f0f95be9",
   "metadata": {},
   "outputs": [],
   "source": [
    "'''\n",
    "VMP 2022-02-24: \n",
    "These numbers are reported in the SI. \n",
    "'''"
   ]
  },
  {
   "cell_type": "code",
   "execution_count": 1,
   "id": "bcacfd97",
   "metadata": {},
   "outputs": [
    {
     "name": "stdout",
     "output_type": "stream",
     "text": [
      "['NAME STATE JOBID', 'main_job PENDING 66636', 'jupyter-notebook RUNNING 66651', 'cluster_new.job RUNNING 66650', 'main_job RUNNING 66634', 'eval RUNNING 66638', 'jupyter-notebook RUNNING 66649', 'tpcx-ai_benchmark.job RUNNING 66629', 'train-gan RUNNING 66518', '3.deberta.0 RUNNING 66631', '3.deberta.1 RUNNING 66630', 'small.2 RUNNING 66546', '']\n"
     ]
    }
   ],
   "source": [
    "import sys  \n",
    "sys.path.insert(0, '/home/vicp')\n",
    "from MAGspark import get_mag_with_cluster_connection\n",
    "from MAG import MicrosoftAcademicGraph\n",
    "import os\n",
    "from pyspark.sql import functions as F, Window\n",
    "import pandas as pd\n",
    "import matplotlib.pyplot as plt\n",
    "import numpy as np\n",
    "from pyspark.sql.functions import avg\n",
    "os.chdir('/home/vicp')\n",
    "mag, spark = get_mag_with_cluster_connection(66650, \n",
    "                               memory_per_executor=16000)"
   ]
  },
  {
   "cell_type": "code",
   "execution_count": 2,
   "id": "543a5594",
   "metadata": {},
   "outputs": [
    {
     "data": {
      "text/html": [
       "\n",
       "            <div>\n",
       "                <p><b>SparkSession - in-memory</b></p>\n",
       "                \n",
       "        <div>\n",
       "            <p><b>SparkContext</b></p>\n",
       "\n",
       "            <p><a href=\"http://desktop12.hpc.itu.dk:4040\">Spark UI</a></p>\n",
       "\n",
       "            <dl>\n",
       "              <dt>Version</dt>\n",
       "                <dd><code>v3.0.3</code></dd>\n",
       "              <dt>Master</dt>\n",
       "                <dd><code>spark://172.16.16.102:7077</code></dd>\n",
       "              <dt>AppName</dt>\n",
       "                <dd><code>pyspark-shell</code></dd>\n",
       "            </dl>\n",
       "        </div>\n",
       "        \n",
       "            </div>\n",
       "        "
      ],
      "text/plain": [
       "<pyspark.sql.session.SparkSession at 0x7f1aacebafd0>"
      ]
     },
     "execution_count": 2,
     "metadata": {},
     "output_type": "execute_result"
    }
   ],
   "source": [
    "spark"
   ]
  },
  {
   "cell_type": "code",
   "execution_count": null,
   "id": "fe06a183",
   "metadata": {},
   "outputs": [],
   "source": [
    "# raw number of papers"
   ]
  },
  {
   "cell_type": "code",
   "execution_count": 4,
   "id": "c2772f08",
   "metadata": {},
   "outputs": [
    {
     "data": {
      "text/plain": [
       "265150698"
      ]
     },
     "execution_count": 4,
     "metadata": {},
     "output_type": "execute_result"
    }
   ],
   "source": [
    "mag.getDataframe('Papers') \\\n",
    "    .select('PaperId') \\\n",
    "    .distinct() \\\n",
    "    .count()"
   ]
  },
  {
   "cell_type": "code",
   "execution_count": null,
   "id": "09b89012",
   "metadata": {},
   "outputs": [],
   "source": [
    "# raw number of authors"
   ]
  },
  {
   "cell_type": "code",
   "execution_count": 6,
   "id": "c7cc2acb",
   "metadata": {},
   "outputs": [
    {
     "data": {
      "text/plain": [
       "274862239"
      ]
     },
     "execution_count": 6,
     "metadata": {},
     "output_type": "execute_result"
    }
   ],
   "source": [
    "mag.getDataframe('Authors') \\\n",
    "    .select('AuthorId') \\\n",
    "    .distinct() \\\n",
    "    .count()"
   ]
  },
  {
   "cell_type": "code",
   "execution_count": null,
   "id": "48820f6f",
   "metadata": {},
   "outputs": [],
   "source": [
    "# raw number of authorships"
   ]
  },
  {
   "cell_type": "code",
   "execution_count": 7,
   "id": "d7de39d4",
   "metadata": {},
   "outputs": [
    {
     "data": {
      "text/plain": [
       "710303636"
      ]
     },
     "execution_count": 7,
     "metadata": {},
     "output_type": "execute_result"
    }
   ],
   "source": [
    "mag.getDataframe('PaperAuthorAffiliations') \\\n",
    "    .select('PaperId', 'AuthorId') \\\n",
    "    .distinct() \\\n",
    "    .count() "
   ]
  }
 ],
 "metadata": {
  "kernelspec": {
   "display_name": "Python (nerdenv)",
   "language": "python",
   "name": "nerdenv"
  },
  "language_info": {
   "codemirror_mode": {
    "name": "ipython",
    "version": 3
   },
   "file_extension": ".py",
   "mimetype": "text/x-python",
   "name": "python",
   "nbconvert_exporter": "python",
   "pygments_lexer": "ipython3",
   "version": "3.8.8"
  }
 },
 "nbformat": 4,
 "nbformat_minor": 5
}
