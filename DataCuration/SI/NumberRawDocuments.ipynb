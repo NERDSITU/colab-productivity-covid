{
 "cells": [
  {
   "cell_type": "code",
   "execution_count": 1,
   "id": "f0f95be9",
   "metadata": {
    "scrolled": true
   },
   "outputs": [
    {
     "data": {
      "text/plain": [
       "'\\nVMP 2022-02-24: \\nThese numbers are reported in the SI. \\n'"
      ]
     },
     "execution_count": 1,
     "metadata": {},
     "output_type": "execute_result"
    }
   ],
   "source": [
    "'''\n",
    "VMP 2022-02-24: \n",
    "These numbers are reported in the SI. \n",
    "'''"
   ]
  },
  {
   "cell_type": "code",
   "execution_count": 2,
   "id": "bcacfd97",
   "metadata": {},
   "outputs": [
    {
     "name": "stdout",
     "output_type": "stream",
     "text": [
      "['NAME STATE JOBID', 'sparse_min_solves PENDING 68701', 'sparse_sum_dist PENDING 68702', 'sparse_sum_solves PENDING 68703', 'NN_test RUNNING 68657', 'scenario_C_job RUNNING 68647', 'cluster_new.job RUNNING 68705', 'sparse_min_dist RUNNING 68700', 'non_sparse_sum_solves RUNNING 68699', 'non_sparse_min_solves RUNNING 68698', 'non_sparse_sum_dist RUNNING 68697', 'non_sparse_min_dist RUNNING 68696', 'mpi RUNNING 68631', 'jupyter-notebook RUNNING 68432', 'jupyter-notebook RUNNING 68704', 'jupyter-notebook RUNNING 68570', '']\n"
     ]
    }
   ],
   "source": [
    "import sys  \n",
    "sys.path.insert(0, '/home/vicp/colab-productivity-covid/DataCuration')\n",
    "from MAGspark import get_mag_with_cluster_connection\n",
    "from MAG import MicrosoftAcademicGraph\n",
    "import os\n",
    "from pyspark.sql import functions as F, Window\n",
    "import pandas as pd\n",
    "import matplotlib.pyplot as plt\n",
    "import numpy as np\n",
    "from pyspark.sql.functions import avg\n",
    "os.chdir('/home/vicp/colab-productivity-covid/DataCuration')\n",
    "mag, spark = get_mag_with_cluster_connection(68705, \n",
    "                               memory_per_executor=16000)"
   ]
  },
  {
   "cell_type": "code",
   "execution_count": 3,
   "id": "543a5594",
   "metadata": {},
   "outputs": [
    {
     "data": {
      "text/html": [
       "\n",
       "            <div>\n",
       "                <p><b>SparkSession - in-memory</b></p>\n",
       "                \n",
       "        <div>\n",
       "            <p><b>SparkContext</b></p>\n",
       "\n",
       "            <p><a href=\"http://desktop9.hpc.itu.dk:4040\">Spark UI</a></p>\n",
       "\n",
       "            <dl>\n",
       "              <dt>Version</dt>\n",
       "                <dd><code>v3.0.3</code></dd>\n",
       "              <dt>Master</dt>\n",
       "                <dd><code>spark://172.16.16.105:7077</code></dd>\n",
       "              <dt>AppName</dt>\n",
       "                <dd><code>pyspark-shell</code></dd>\n",
       "            </dl>\n",
       "        </div>\n",
       "        \n",
       "            </div>\n",
       "        "
      ],
      "text/plain": [
       "<pyspark.sql.session.SparkSession at 0x7fa7410ee3a0>"
      ]
     },
     "execution_count": 3,
     "metadata": {},
     "output_type": "execute_result"
    }
   ],
   "source": [
    "spark"
   ]
  },
  {
   "cell_type": "code",
   "execution_count": 4,
   "id": "fe06a183",
   "metadata": {},
   "outputs": [],
   "source": [
    "# raw number of papers"
   ]
  },
  {
   "cell_type": "code",
   "execution_count": 5,
   "id": "c2772f08",
   "metadata": {},
   "outputs": [
    {
     "data": {
      "text/plain": [
       "270694050"
      ]
     },
     "execution_count": 5,
     "metadata": {},
     "output_type": "execute_result"
    }
   ],
   "source": [
    "mag.getDataframe('Papers') \\\n",
    "    .select('PaperId') \\\n",
    "    .distinct() \\\n",
    "    .count()"
   ]
  },
  {
   "cell_type": "code",
   "execution_count": 6,
   "id": "09b89012",
   "metadata": {},
   "outputs": [],
   "source": [
    "# raw number of authors"
   ]
  },
  {
   "cell_type": "code",
   "execution_count": 7,
   "id": "c7cc2acb",
   "metadata": {},
   "outputs": [
    {
     "data": {
      "text/plain": [
       "281297093"
      ]
     },
     "execution_count": 7,
     "metadata": {},
     "output_type": "execute_result"
    }
   ],
   "source": [
    "mag.getDataframe('Authors') \\\n",
    "    .select('AuthorId') \\\n",
    "    .distinct() \\\n",
    "    .count()"
   ]
  },
  {
   "cell_type": "code",
   "execution_count": 8,
   "id": "48820f6f",
   "metadata": {},
   "outputs": [],
   "source": [
    "# raw number of authorships"
   ]
  },
  {
   "cell_type": "code",
   "execution_count": 9,
   "id": "d7de39d4",
   "metadata": {},
   "outputs": [
    {
     "data": {
      "text/plain": [
       "727784793"
      ]
     },
     "execution_count": 9,
     "metadata": {},
     "output_type": "execute_result"
    }
   ],
   "source": [
    "mag.getDataframe('PaperAuthorAffiliations') \\\n",
    "    .select('PaperId', 'AuthorId') \\\n",
    "    .distinct() \\\n",
    "    .count() "
   ]
  }
 ],
 "metadata": {
  "kernelspec": {
   "display_name": "Python (nerdenv)",
   "language": "python",
   "name": "nerdenv"
  },
  "language_info": {
   "codemirror_mode": {
    "name": "ipython",
    "version": 3
   },
   "file_extension": ".py",
   "mimetype": "text/x-python",
   "name": "python",
   "nbconvert_exporter": "python",
   "pygments_lexer": "ipython3",
   "version": "3.8.8"
  }
 },
 "nbformat": 4,
 "nbformat_minor": 5
}
