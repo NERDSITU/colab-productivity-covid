{
 "cells": [
  {
   "cell_type": "code",
   "execution_count": null,
   "id": "844c82be",
   "metadata": {},
   "outputs": [],
   "source": [
    "'''\n",
    "VMP 2022-03-02: \n",
    "these subsets are used in 'PlotsSi' to create SI figures / tables. \n",
    "'''"
   ]
  },
  {
   "cell_type": "code",
   "execution_count": 4,
   "id": "537484e8",
   "metadata": {},
   "outputs": [
    {
     "name": "stdout",
     "output_type": "stream",
     "text": [
      "['NAME STATE JOBID', 'simple-gpu RUNNING 63725', 'cluster_new.job RUNNING 63504', 'jupyter-notebook RUNNING 63712', '']\n"
     ]
    }
   ],
   "source": [
    "import sys  \n",
    "sys.path.insert(0, '/home/vicp')\n",
    "from MAGspark import get_mag_with_cluster_connection\n",
    "from MAG import MicrosoftAcademicGraph\n",
    "import os\n",
    "from pyspark.sql import functions as F, Window\n",
    "import pandas as pd\n",
    "import matplotlib.pyplot as plt\n",
    "import numpy as np\n",
    "from pyspark.sql.functions import avg\n",
    "os.chdir('/home/vicp')\n",
    "mag, spark = get_mag_with_cluster_connection(63504, \n",
    "                               memory_per_executor=16000)"
   ]
  },
  {
   "cell_type": "code",
   "execution_count": 5,
   "id": "9055604a",
   "metadata": {},
   "outputs": [
    {
     "data": {
      "text/html": [
       "\n",
       "            <div>\n",
       "                <p><b>SparkSession - in-memory</b></p>\n",
       "                \n",
       "        <div>\n",
       "            <p><b>SparkContext</b></p>\n",
       "\n",
       "            <p><a href=\"http://desktop12.hpc.itu.dk:4040\">Spark UI</a></p>\n",
       "\n",
       "            <dl>\n",
       "              <dt>Version</dt>\n",
       "                <dd><code>v3.0.3</code></dd>\n",
       "              <dt>Master</dt>\n",
       "                <dd><code>spark://172.16.16.101:7078</code></dd>\n",
       "              <dt>AppName</dt>\n",
       "                <dd><code>pyspark-shell</code></dd>\n",
       "            </dl>\n",
       "        </div>\n",
       "        \n",
       "            </div>\n",
       "        "
      ],
      "text/plain": [
       "<pyspark.sql.session.SparkSession at 0x7fdd45c040d0>"
      ]
     },
     "execution_count": 5,
     "metadata": {},
     "output_type": "execute_result"
    }
   ],
   "source": [
    "spark"
   ]
  },
  {
   "cell_type": "code",
   "execution_count": 1,
   "id": "3800c89f",
   "metadata": {},
   "outputs": [],
   "source": [
    "# Pandas dataframes by DocType AND Year. "
   ]
  },
  {
   "cell_type": "code",
   "execution_count": 6,
   "id": "c54fb8d2",
   "metadata": {},
   "outputs": [],
   "source": [
    "def papers(filename, outname): \n",
    "    \n",
    "    # only to get year column \n",
    "    papers_all = mag.getDataframe('Papers') \\\n",
    "        .select('PaperId', 'Year') \\\n",
    "        .filter(F.col('Year') >= 2010) \\\n",
    "        .distinct() \n",
    "        \n",
    "    paaa = mag.getDataframe(filename) \\\n",
    "        .select('PaperId', 'DocType') \\\n",
    "        .distinct() \\\n",
    "        .join(papers_all, ['PaperId'], 'inner') \\\n",
    "        .filter(F.col('Year') >= 2010) \\\n",
    "        .distinct() \\\n",
    "        .groupby('DocType', 'Year').count() \\\n",
    "        .toPandas()\n",
    "    \n",
    "    paaa.to_csv(f\"/home/vicp/data/2021-08-02/datacuration/{outname}.csv\", index = False)"
   ]
  },
  {
   "cell_type": "code",
   "execution_count": 7,
   "id": "a2853e18",
   "metadata": {},
   "outputs": [],
   "source": [
    "papers('PaperAuthorAffiliationsAttributesNoFilter', 'papers_NoFilter')\n",
    "papers('PaperAuthorAffiliationsAttributes25', 'papers_25')\n",
    "papers('PaperAuthorAffiliationsAttributesRefCite', 'papers_RefCite')\n",
    "papers('PaperAuthorAffiliationsAttributesAll', 'papers_All')\n",
    "papers('PaperAuthorAffiliationsAttributesRepo', 'papers_Repo')"
   ]
  },
  {
   "cell_type": "code",
   "execution_count": 8,
   "id": "77342653",
   "metadata": {},
   "outputs": [],
   "source": [
    "def authorships(document, name): \n",
    "    \n",
    "    # only to get year column \n",
    "    papers_all = mag.getDataframe('Papers') \\\n",
    "        .select('PaperId', 'Year') \\\n",
    "        .filter(F.col('Year') >= 2010) \\\n",
    "        .distinct() \n",
    "    \n",
    "    paaa = mag.getDataframe(document) \\\n",
    "        .select('PaperId', 'AuthorId', 'DocType') \\\n",
    "        .distinct() \\\n",
    "        .join(papers_all, ['PaperId'], 'inner') \\\n",
    "        .filter(F.col('Year') >= 2010) \\\n",
    "        .distinct() \\\n",
    "        .groupby('DocType', 'Year').count() \\\n",
    "        .toPandas()\n",
    "    \n",
    "    paaa.to_csv(f\"/home/vicp/data/2021-08-02/datacuration/{name}.csv\", index = False)"
   ]
  },
  {
   "cell_type": "code",
   "execution_count": 9,
   "id": "76a033ed",
   "metadata": {},
   "outputs": [],
   "source": [
    "authorships('PaperAuthorAffiliationsAttributesNoFilter', 'authorships_NoFilter')\n",
    "authorships('PaperAuthorAffiliationsAttributes25', 'authorships_25')\n",
    "authorships('PaperAuthorAffiliationsAttributesRefCite', 'authorships_RefCite')\n",
    "authorships('PaperAuthorAffiliationsAttributesAll', 'authorships_All')\n",
    "authorships('PaperAuthorAffiliationsAttributesRepo', 'authorships_Repo')"
   ]
  },
  {
   "cell_type": "code",
   "execution_count": 10,
   "id": "078250fd",
   "metadata": {},
   "outputs": [],
   "source": [
    "def authors(document, name): \n",
    "    \n",
    "    # only to get year column \n",
    "    papers_all = mag.getDataframe('Papers') \\\n",
    "        .select('PaperId', 'Year') \\\n",
    "        .filter(F.col('Year') >= 2010) \\\n",
    "        .distinct() \n",
    "    \n",
    "    paaa = mag.getDataframe(document) \\\n",
    "        .select('PaperId', 'AuthorId', 'DocType') \\\n",
    "        .distinct() \\\n",
    "        .join(papers_all, ['PaperId'], 'inner') \\\n",
    "        .filter(F.col('Year') >= 2010) \\\n",
    "        .select('AuthorId', 'DocType', 'Year') \\\n",
    "        .distinct() \\\n",
    "        .groupby('DocType', 'Year').count() \\\n",
    "        .toPandas()\n",
    "    \n",
    "    paaa.to_csv(f\"/home/vicp/data/2021-08-02/datacuration/{name}.csv\", index = False)"
   ]
  },
  {
   "cell_type": "code",
   "execution_count": null,
   "id": "f28df102",
   "metadata": {},
   "outputs": [],
   "source": [
    "authors('PaperAuthorAffiliationsAttributesNoFilter', 'authors_NoFilter')\n",
    "authors('PaperAuthorAffiliationsAttributes25', 'authors_25')\n",
    "authors('PaperAuthorAffiliationsAttributesRefCite', 'authors_RefCite')\n",
    "authors('PaperAuthorAffiliationsAttributesAll', 'authors_All')\n",
    "authors('PaperAuthorAffiliationsAttributesRepo', 'authors_Repo')"
   ]
  }
 ],
 "metadata": {
  "kernelspec": {
   "display_name": "Python (nerdenv)",
   "language": "python",
   "name": "nerdenv"
  },
  "language_info": {
   "codemirror_mode": {
    "name": "ipython",
    "version": 3
   },
   "file_extension": ".py",
   "mimetype": "text/x-python",
   "name": "python",
   "nbconvert_exporter": "python",
   "pygments_lexer": "ipython3",
   "version": "3.8.8"
  }
 },
 "nbformat": 4,
 "nbformat_minor": 5
}
