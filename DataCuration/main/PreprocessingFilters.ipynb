{
 "cells": [
  {
   "cell_type": "code",
   "execution_count": null,
   "id": "edf88889",
   "metadata": {},
   "outputs": [],
   "source": [
    "'''\n",
    "VMP 2022-03-02:\n",
    "Filter the data from 'PreprocessingAllDocType' down. \n",
    "'''"
   ]
  },
  {
   "cell_type": "code",
   "execution_count": 1,
   "id": "9fdebf31",
   "metadata": {},
   "outputs": [
    {
     "name": "stdout",
     "output_type": "stream",
     "text": [
      "['NAME STATE JOBID', 'cluster_new.job RUNNING 63504', 'jupyter-notebook RUNNING 63712', '']\n"
     ]
    }
   ],
   "source": [
    "import sys  \n",
    "sys.path.insert(0, '/home/vicp')\n",
    "from MAGspark import get_mag_with_cluster_connection\n",
    "from MAG import MicrosoftAcademicGraph\n",
    "import os\n",
    "from pyspark.sql import functions as F, Window\n",
    "import pandas as pd\n",
    "import matplotlib.pyplot as plt\n",
    "import numpy as np\n",
    "from pyspark.sql.functions import avg\n",
    "os.chdir('/home/vicp')\n",
    "mag, spark = get_mag_with_cluster_connection(63504, \n",
    "                               memory_per_executor=16000)"
   ]
  },
  {
   "cell_type": "code",
   "execution_count": 2,
   "id": "223e0a23",
   "metadata": {},
   "outputs": [
    {
     "data": {
      "text/html": [
       "\n",
       "            <div>\n",
       "                <p><b>SparkSession - in-memory</b></p>\n",
       "                \n",
       "        <div>\n",
       "            <p><b>SparkContext</b></p>\n",
       "\n",
       "            <p><a href=\"http://desktop12.hpc.itu.dk:4040\">Spark UI</a></p>\n",
       "\n",
       "            <dl>\n",
       "              <dt>Version</dt>\n",
       "                <dd><code>v3.0.3</code></dd>\n",
       "              <dt>Master</dt>\n",
       "                <dd><code>spark://172.16.16.101:7078</code></dd>\n",
       "              <dt>AppName</dt>\n",
       "                <dd><code>pyspark-shell</code></dd>\n",
       "            </dl>\n",
       "        </div>\n",
       "        \n",
       "            </div>\n",
       "        "
      ],
      "text/plain": [
       "<pyspark.sql.session.SparkSession at 0x7f6f2c711fd0>"
      ]
     },
     "execution_count": 2,
     "metadata": {},
     "output_type": "execute_result"
    }
   ],
   "source": [
    "spark"
   ]
  },
  {
   "cell_type": "code",
   "execution_count": null,
   "id": "847dd16f",
   "metadata": {},
   "outputs": [],
   "source": [
    "## to do: \n",
    "# (1) run getFilteredPapers() (and uncomment afterwards)\n",
    "# (2) run ProjPapersAll() for the two new. \n",
    "# (3) run PaperAuthorAffiliationsAll() for the two new. \n",
    "# (4) add to the MAG file so that we can load them. \n",
    "# (5) create new files which actually let us do what we need. "
   ]
  },
  {
   "cell_type": "markdown",
   "id": "dd574622",
   "metadata": {},
   "source": [
    "# Filter Papers (all)"
   ]
  },
  {
   "cell_type": "code",
   "execution_count": 5,
   "id": "90ebfdb7",
   "metadata": {},
   "outputs": [],
   "source": [
    "# unique elements\n",
    "def getFilteredPapers(): \n",
    "    \n",
    "    '''\n",
    "    Creating a dataframe with one column, containing all the papers that \n",
    "    (1) either reference or cite. \n",
    "    (2) have less than 25 co-authors. \n",
    "    '''\n",
    "    \n",
    "    # get papers that reference or cite \n",
    "    PaperReferences = mag.getDataframe('PaperReferences')\n",
    "    PaperId = PaperReferences.select('PaperId').distinct()\n",
    "    PaperReferenceId = PaperReferences.select('PaperReferenceId').distinct().withColumnRenamed('PaperReferenceId', 'PaperId')\n",
    "    PapersRefCite = PaperId.join(PaperReferenceId, ['PaperId'], 'outer')\n",
    "    PapersRefCite = PapersRefCite.distinct() # not run. \n",
    "    print(f\"PapersRefCite dtypes: {PapersRefCite.dtypes}\")\n",
    "    mag.saveFile(PapersRefCite, \"datacuration\", \"PapersRefCite.txt\") # sanity check (and SI)\n",
    "    \n",
    "    # get papers that have less than or equal to 25 co-authors\n",
    "    PapersLessEqual25 = mag.getSubset('ProjectPapersAllDocType', ['PaperId', 'NumAuthors']) \\\n",
    "        .filter(F.col(\"NumAuthors\") <= 25) \\\n",
    "        .select('PaperId').distinct()\n",
    "    print(f\"PapersLessEqual25 dtypes: {PapersLessEqual25.dtypes}\")\n",
    "    mag.saveFile(PapersLessEqual25, \"datacuration\", \"Papers25.txt\") # sanity check (and SI)\n",
    "    \n",
    "    # join again \n",
    "    PapersClean = PapersRefCite.join(PapersLessEqual25, ['PaperId'], 'inner')\n",
    "    print(f\"PapersClean dtypes: {PapersRefCite.dtypes}\")\n",
    "    \n",
    "    # save it \n",
    "    mag.saveFile(PapersClean, \"datacuration\", \"PapersClean.txt\")"
   ]
  },
  {
   "cell_type": "code",
   "execution_count": 6,
   "id": "cd266ee6",
   "metadata": {},
   "outputs": [
    {
     "name": "stdout",
     "output_type": "stream",
     "text": [
      "PapersLessEqual25 dtypes: [('PaperId', 'bigint')]\n"
     ]
    }
   ],
   "source": [
    "getFilteredPapers()"
   ]
  },
  {
   "cell_type": "markdown",
   "id": "5349cc49",
   "metadata": {},
   "source": [
    "# Filter Authors (all)"
   ]
  },
  {
   "cell_type": "code",
   "execution_count": 3,
   "id": "d29db0f7",
   "metadata": {},
   "outputs": [],
   "source": [
    "def getFilteredAuthors(): \n",
    "    \n",
    "    # load files\n",
    "    paaaD = mag.getSubset('PaperAuthorAffiliationsAttributesAllDocType', ['PaperId', 'AuthorId'])\n",
    "    PapersClean = mag.getDataframe('PapersClean')\n",
    "    print(f\"paaaD dtypes: {paaaD.dtypes}\")\n",
    "    print(f\"PapersClean dtypes: {PapersClean.dtypes}\")\n",
    "    \n",
    "    # inner join on PaperId\n",
    "    AuthorsClean = PapersClean.join(paaaD, ['PaperId'], \"inner\") \\\n",
    "        .select('AuthorId') \\\n",
    "        .distinct() \n",
    "    print(f\"AuthorsClean dtypes: {AuthorsClean.dtypes}\")\n",
    "    \n",
    "    # write file \n",
    "    mag.saveFile(AuthorsClean, \"datacuration\", \"AuthorsClean.txt\")"
   ]
  },
  {
   "cell_type": "code",
   "execution_count": 4,
   "id": "7892ff4d",
   "metadata": {
    "scrolled": true
   },
   "outputs": [
    {
     "name": "stdout",
     "output_type": "stream",
     "text": [
      "paaaD dtypes: [('PaperId', 'bigint'), ('AuthorId', 'bigint')]\n",
      "PapersClean dtypes: [('PaperId', 'bigint')]\n",
      "AuthorsClean dtypes: [('AuthorId', 'bigint')]\n"
     ]
    }
   ],
   "source": [
    "getFilteredAuthors()"
   ]
  },
  {
   "cell_type": "markdown",
   "id": "de0034e3",
   "metadata": {},
   "source": [
    "# Map FieldOfStudyId to NormalizedName"
   ]
  },
  {
   "cell_type": "code",
   "execution_count": 5,
   "id": "2e4ac389",
   "metadata": {},
   "outputs": [],
   "source": [
    "def NormalizedName(): \n",
    "    \n",
    "    # NormalizedName and FieldOfStudyId mapping. \n",
    "    FoS = mag.getSubset(\"FieldsOfStudy\", ['FieldOfStudyId', 'NormalizedName']) \\\n",
    "        .distinct() \n",
    "    print(f\"dtypes: {FoS.dtypes}\")\n",
    "    \n",
    "    # write file \n",
    "    mag.saveFile(FoS, \"datacuration\", \"FoS.txt\")"
   ]
  },
  {
   "cell_type": "code",
   "execution_count": 6,
   "id": "22c6eb97",
   "metadata": {},
   "outputs": [
    {
     "name": "stdout",
     "output_type": "stream",
     "text": [
      "dtypes: [('FieldOfStudyId', 'bigint'), ('NormalizedName', 'string')]\n"
     ]
    }
   ],
   "source": [
    "NormalizedName()"
   ]
  },
  {
   "cell_type": "markdown",
   "id": "44cfd8e5",
   "metadata": {},
   "source": [
    "## Create Final ProjectPapersAll"
   ]
  },
  {
   "cell_type": "code",
   "execution_count": 3,
   "id": "03181047",
   "metadata": {},
   "outputs": [],
   "source": [
    "def ProjPapersAll(PaperSub, outname): \n",
    "    \n",
    "    # load files \n",
    "    ProjectPapersAllDocType = mag.getDataframe('ProjectPapersAllDocType')\n",
    "    PapersClean = mag.getDataframe(PaperSub) # here as well \n",
    "    FoS = mag.getDataframe('FoS')\n",
    "    \n",
    "    # filter (only want 4 out of 7 columns I think). \n",
    "    ProjectPapersAll = ProjectPapersAllDocType.join(PapersClean, ['PaperId'], \"inner\") \\\n",
    "        .join(FoS, ['FieldOfStudyId'], \"inner\") \\\n",
    "        .select('PaperId', 'FieldOfStudyId', 'NormalizedName', 'DocType', 'Date') \\\n",
    "        .distinct() \n",
    "    print(f\"ProjectPapersAll dtypes: {ProjectPapersAll.dtypes}\")\n",
    "    \n",
    "    # write file \n",
    "    mag.saveFile(ProjectPapersAll, \"datacuration\", outname)"
   ]
  },
  {
   "cell_type": "code",
   "execution_count": 4,
   "id": "46b82dc0",
   "metadata": {},
   "outputs": [
    {
     "name": "stdout",
     "output_type": "stream",
     "text": [
      "ProjectPapersAll dtypes: [('PaperId', 'bigint'), ('FieldOfStudyId', 'bigint'), ('NormalizedName', 'string'), ('DocType', 'string'), ('Date', 'date')]\n"
     ]
    }
   ],
   "source": [
    "ProjPapersAll('PapersClean', 'ProjectPapersAll.txt')"
   ]
  },
  {
   "cell_type": "code",
   "execution_count": 5,
   "id": "0160326a",
   "metadata": {},
   "outputs": [
    {
     "name": "stdout",
     "output_type": "stream",
     "text": [
      "ProjectPapersAll dtypes: [('PaperId', 'bigint'), ('FieldOfStudyId', 'bigint'), ('NormalizedName', 'string'), ('DocType', 'string'), ('Date', 'date')]\n"
     ]
    }
   ],
   "source": [
    "ProjPapersAll('PapersRefCite', 'ProjectPapersRefCite.txt')"
   ]
  },
  {
   "cell_type": "code",
   "execution_count": 6,
   "id": "e8d1d110",
   "metadata": {},
   "outputs": [
    {
     "name": "stdout",
     "output_type": "stream",
     "text": [
      "ProjectPapersAll dtypes: [('PaperId', 'bigint'), ('FieldOfStudyId', 'bigint'), ('NormalizedName', 'string'), ('DocType', 'string'), ('Date', 'date')]\n"
     ]
    }
   ],
   "source": [
    "ProjPapersAll('Papers25', 'ProjectPapers25.txt')"
   ]
  },
  {
   "cell_type": "markdown",
   "id": "6e25e7cf",
   "metadata": {},
   "source": [
    "## Create Final ProjectAuthorsAll\n"
   ]
  },
  {
   "cell_type": "code",
   "execution_count": 9,
   "id": "f77d5d07",
   "metadata": {},
   "outputs": [],
   "source": [
    "def ProjAuthorsAll(): \n",
    "    \n",
    "    # load files \n",
    "    ProjectAuthorsAllDocType = mag.getDataframe('ProjectAuthorsAllDocType')\n",
    "    AuthorsClean = mag.getDataframe('AuthorsClean')\n",
    "    \n",
    "    # filter (keeping most columns here)\n",
    "    ProjectAuthorsAll = ProjectAuthorsAllDocType.join(AuthorsClean, ['AuthorId'], \"inner\") \\\n",
    "        .select('AuthorId', 'DisplayName', 'Country', 'Gender', 'Genderized', 'MinDate') \\\n",
    "        .distinct()\n",
    "    print(f\"ProjectAuthorsAll dtypes: {ProjectAuthorsAll.dtypes}\")\n",
    "    \n",
    "    # write file\n",
    "    mag.saveFile(ProjectAuthorsAll, \"datacuration\", \"ProjectAuthorsAll.txt\")"
   ]
  },
  {
   "cell_type": "code",
   "execution_count": 10,
   "id": "eb6bfcc9",
   "metadata": {},
   "outputs": [
    {
     "name": "stdout",
     "output_type": "stream",
     "text": [
      "ProjectAuthorsAll dtypes: [('AuthorId', 'bigint'), ('DisplayName', 'string'), ('Country', 'string'), ('Gender', 'string'), ('Genderized', 'int'), ('MinDate', 'date')]\n"
     ]
    }
   ],
   "source": [
    "ProjAuthorsAll()"
   ]
  },
  {
   "cell_type": "markdown",
   "id": "f0a6dce2",
   "metadata": {},
   "source": [
    "## Create Final PaperAuthorAffiliationsAttributesAll"
   ]
  },
  {
   "cell_type": "code",
   "execution_count": 12,
   "id": "95a522e4",
   "metadata": {},
   "outputs": [],
   "source": [
    "def PaperAuthorAffiliationsFun(ProjectPapersSub, outname): \n",
    "    \n",
    "    # load files (remember, ProjectPapersAll is already filtered).\n",
    "    ProjectPapersAll = mag.getSubset(ProjectPapersSub, ['PaperId', 'DocType', 'FieldOfStudyId'])\n",
    "    PaperAuthorAffiliationsAttributesAllDocType = mag.getDataframe('PaperAuthorAffiliationsAttributesAllDocType')\n",
    "    FoS = mag.getDataframe('FoS')\n",
    "    \n",
    "    # join \n",
    "    PaperAuthorAll = PaperAuthorAffiliationsAttributesAllDocType.join(ProjectPapersAll, ['PaperId'], \"inner\") \\\n",
    "        .join(FoS, ['FieldOfStudyId'], \"inner\") \\\n",
    "        .select('PaperId', 'AuthorId', 'Date', 'Gender', 'ScientificAge', 'CountryCode', 'DocType', 'FieldOfStudyId', \"NormalizedName\")\n",
    "    print(f\"dtypes: {PaperAuthorAll.dtypes}\")\n",
    "\n",
    "    # write file \n",
    "    mag.saveFile(PaperAuthorAll, \"datacuration\", outname)"
   ]
  },
  {
   "cell_type": "code",
   "execution_count": 13,
   "id": "e62746d5",
   "metadata": {},
   "outputs": [
    {
     "name": "stdout",
     "output_type": "stream",
     "text": [
      "dtypes: [('PaperId', 'bigint'), ('AuthorId', 'bigint'), ('Date', 'date'), ('Gender', 'int'), ('ScientificAge', 'float'), ('CountryCode', 'string'), ('DocType', 'string'), ('FieldOfStudyId', 'bigint'), ('NormalizedName', 'string')]\n"
     ]
    }
   ],
   "source": [
    "# all doctypes and both filters (not run right now)\n",
    "PaperAuthorAffiliationsFun('ProjectPapersAll', 'PaperAuthorAffiliationsAttributesAll.txt')"
   ]
  },
  {
   "cell_type": "code",
   "execution_count": 14,
   "id": "fa99d71a",
   "metadata": {},
   "outputs": [
    {
     "name": "stdout",
     "output_type": "stream",
     "text": [
      "dtypes: [('PaperId', 'bigint'), ('AuthorId', 'bigint'), ('Date', 'date'), ('Gender', 'int'), ('ScientificAge', 'float'), ('CountryCode', 'string'), ('DocType', 'string'), ('FieldOfStudyId', 'bigint'), ('NormalizedName', 'string')]\n"
     ]
    }
   ],
   "source": [
    "# all doctypes and 25 filter\n",
    "PaperAuthorAffiliationsFun('ProjectPapers25', 'PaperAuthorAffiliationsAttributes25.txt')"
   ]
  },
  {
   "cell_type": "code",
   "execution_count": 15,
   "id": "052f9839",
   "metadata": {},
   "outputs": [
    {
     "name": "stdout",
     "output_type": "stream",
     "text": [
      "dtypes: [('PaperId', 'bigint'), ('AuthorId', 'bigint'), ('Date', 'date'), ('Gender', 'int'), ('ScientificAge', 'float'), ('CountryCode', 'string'), ('DocType', 'string'), ('FieldOfStudyId', 'bigint'), ('NormalizedName', 'string')]\n"
     ]
    }
   ],
   "source": [
    "# all doctypes and ref/cite filter\n",
    "PaperAuthorAffiliationsFun('ProjectPapersRefCite', 'PaperAuthorAffiliationsAttributesRefCite.txt')"
   ]
  },
  {
   "cell_type": "code",
   "execution_count": 16,
   "id": "211119fe",
   "metadata": {},
   "outputs": [
    {
     "name": "stdout",
     "output_type": "stream",
     "text": [
      "dtypes: [('PaperId', 'bigint'), ('AuthorId', 'bigint'), ('Date', 'date'), ('Gender', 'int'), ('ScientificAge', 'float'), ('CountryCode', 'string'), ('DocType', 'string'), ('FieldOfStudyId', 'bigint'), ('NormalizedName', 'string')]\n"
     ]
    }
   ],
   "source": [
    "# no filter (should actually be pretty much the same as PaperAuthorAffiliationsAttributesAllDocType) (not run right now)\n",
    "PaperAuthorAffiliationsFun('ProjectPapersAllDocType', \"PaperAuthorAffiliationsAttributesNoFilter.txt\")"
   ]
  },
  {
   "cell_type": "markdown",
   "id": "834d3e99",
   "metadata": {},
   "source": [
    "## Create Final ProjectPapersRepo"
   ]
  },
  {
   "cell_type": "code",
   "execution_count": 17,
   "id": "26300677",
   "metadata": {},
   "outputs": [],
   "source": [
    "def ProjPapersRepo(): \n",
    "    \n",
    "    # load files \n",
    "    ProjPapersAll = mag.getDataframe(\"ProjectPapersAll\")\n",
    "    \n",
    "    # filter\n",
    "    ProjPapersRepo = ProjPapersAll.filter(F.col(\"DocType\") == \"Repository\")\n",
    "    print(f\"dtypes: {ProjPapersRepo.dtypes}\")\n",
    "    \n",
    "    # write file\n",
    "    mag.saveFile(ProjPapersRepo, \"datacuration\", \"ProjectPapersRepo.txt\")"
   ]
  },
  {
   "cell_type": "code",
   "execution_count": 18,
   "id": "3394eeef",
   "metadata": {},
   "outputs": [
    {
     "name": "stdout",
     "output_type": "stream",
     "text": [
      "dtypes: [('PaperId', 'bigint'), ('FieldOfStudyId', 'bigint'), ('NormalizedName', 'string'), ('DocType', 'string'), ('Date', 'date')]\n"
     ]
    }
   ],
   "source": [
    "ProjPapersRepo()"
   ]
  },
  {
   "cell_type": "markdown",
   "id": "fd4cb0ba",
   "metadata": {},
   "source": [
    "## Create Final PaperAuthorAffiliationsAttributesRepo"
   ]
  },
  {
   "cell_type": "code",
   "execution_count": 19,
   "id": "c7cddbdd",
   "metadata": {},
   "outputs": [],
   "source": [
    "def PaperAuthorAffiliationsRepo(): \n",
    "    \n",
    "    # load files \n",
    "    PaperAuthorAll = mag.getDataframe(\"PaperAuthorAffiliationsAttributesAll\")\n",
    "    \n",
    "    # filter\n",
    "    PaperAuthorRepo = PaperAuthorAll.filter(F.col(\"DocType\") == \"Repository\")\n",
    "    print(f\"dtypes: {PaperAuthorRepo.dtypes}\")\n",
    "    \n",
    "    # write file\n",
    "    mag.saveFile(PaperAuthorRepo, \"datacuration\", \"PaperAuthorAffiliationsAttributesRepo.txt\")"
   ]
  },
  {
   "cell_type": "code",
   "execution_count": 20,
   "id": "470d8df7",
   "metadata": {},
   "outputs": [
    {
     "name": "stdout",
     "output_type": "stream",
     "text": [
      "dtypes: [('PaperId', 'bigint'), ('AuthorId', 'bigint'), ('Date', 'date'), ('Gender', 'int'), ('ScientificAge', 'float'), ('CountryCode', 'string'), ('DocType', 'string'), ('FieldOfStudyId', 'bigint'), ('NormalizedName', 'string')]\n"
     ]
    }
   ],
   "source": [
    "PaperAuthorAffiliationsRepo()"
   ]
  }
 ],
 "metadata": {
  "kernelspec": {
   "display_name": "Python (nerdenv)",
   "language": "python",
   "name": "nerdenv"
  },
  "language_info": {
   "codemirror_mode": {
    "name": "ipython",
    "version": 3
   },
   "file_extension": ".py",
   "mimetype": "text/x-python",
   "name": "python",
   "nbconvert_exporter": "python",
   "pygments_lexer": "ipython3",
   "version": "3.8.8"
  }
 },
 "nbformat": 4,
 "nbformat_minor": 5
}
