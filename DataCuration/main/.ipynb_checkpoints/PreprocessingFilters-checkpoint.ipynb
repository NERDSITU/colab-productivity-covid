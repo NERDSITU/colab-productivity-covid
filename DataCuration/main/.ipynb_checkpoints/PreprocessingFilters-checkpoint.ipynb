{
 "cells": [
  {
   "cell_type": "code",
   "execution_count": 1,
   "id": "edf88889",
   "metadata": {},
   "outputs": [
    {
     "data": {
      "text/plain": [
       "\"\\nVMP 2022-03-11:\\nFilter the data from 'PreprocessingAllDocType' down. \\n\""
      ]
     },
     "execution_count": 1,
     "metadata": {},
     "output_type": "execute_result"
    }
   ],
   "source": [
    "'''\n",
    "VMP 2022-03-11: (not run)\n",
    "Filter the data from 'PreprocessingAllDocType' down. \n",
    "'''"
   ]
  },
  {
   "cell_type": "code",
   "execution_count": 2,
   "id": "9fdebf31",
   "metadata": {},
   "outputs": [
    {
     "name": "stdout",
     "output_type": "stream",
     "text": [
      "['NAME STATE JOBID', 'NN_eksperiment PENDING 67659', 'NN_Eksperiment RUNNING 67634', 'cluster_new.job RUNNING 67807', 'jupyter-notebook RUNNING 67806', 'jupyter-notebook RUNNING 67805', '']\n"
     ]
    }
   ],
   "source": [
    "import sys  \n",
    "sys.path.insert(0, '/home/vicp/colab-productivity-covid/DataCuration')\n",
    "from MAGspark import get_mag_with_cluster_connection\n",
    "from MAG import MicrosoftAcademicGraph\n",
    "import os\n",
    "from pyspark.sql import functions as F, Window\n",
    "import pandas as pd\n",
    "import matplotlib.pyplot as plt\n",
    "import numpy as np\n",
    "from pyspark.sql.functions import avg\n",
    "os.chdir('/home/vicp/colab-productivity-covid/DataCuration')\n",
    "mag, spark = get_mag_with_cluster_connection(67807, \n",
    "                               memory_per_executor=16000)"
   ]
  },
  {
   "cell_type": "code",
   "execution_count": 3,
   "id": "223e0a23",
   "metadata": {},
   "outputs": [
    {
     "data": {
      "text/html": [
       "\n",
       "            <div>\n",
       "                <p><b>SparkSession - in-memory</b></p>\n",
       "                \n",
       "        <div>\n",
       "            <p><b>SparkContext</b></p>\n",
       "\n",
       "            <p><a href=\"http://192.168.122.1:4040\">Spark UI</a></p>\n",
       "\n",
       "            <dl>\n",
       "              <dt>Version</dt>\n",
       "                <dd><code>v3.0.3</code></dd>\n",
       "              <dt>Master</dt>\n",
       "                <dd><code>spark://172.16.16.101:7077</code></dd>\n",
       "              <dt>AppName</dt>\n",
       "                <dd><code>pyspark-shell</code></dd>\n",
       "            </dl>\n",
       "        </div>\n",
       "        \n",
       "            </div>\n",
       "        "
      ],
      "text/plain": [
       "<pyspark.sql.session.SparkSession at 0x7ff235a28370>"
      ]
     },
     "execution_count": 3,
     "metadata": {},
     "output_type": "execute_result"
    }
   ],
   "source": [
    "spark"
   ]
  },
  {
   "cell_type": "code",
   "execution_count": 4,
   "id": "847dd16f",
   "metadata": {},
   "outputs": [],
   "source": [
    "## to do: \n",
    "# (1) run getFilteredPapers() (and uncomment afterwards)\n",
    "# (2) run ProjPapersAll() for the two new. \n",
    "# (3) run PaperAuthorAffiliationsAll() for the two new. \n",
    "# (4) add to the MAG file so that we can load them. \n",
    "# (5) create new files which actually let us do what we need. "
   ]
  },
  {
   "cell_type": "markdown",
   "id": "dd574622",
   "metadata": {},
   "source": [
    "# Filter Papers (all)"
   ]
  },
  {
   "cell_type": "code",
   "execution_count": 5,
   "id": "90ebfdb7",
   "metadata": {},
   "outputs": [],
   "source": [
    "# unique elements\n",
    "def getFilteredPapers(): \n",
    "    \n",
    "    '''\n",
    "    Creating a dataframe with one column, containing all the papers that \n",
    "    (1) either reference or cite. \n",
    "    (2) have less than 25 co-authors. \n",
    "    '''\n",
    "    \n",
    "    # get papers that reference or cite \n",
    "    PaperReferences = mag.getDataframe('PaperReferences')\n",
    "    PaperId = PaperReferences.select('PaperId').distinct()\n",
    "    PaperReferenceId = PaperReferences.select('PaperReferenceId').distinct().withColumnRenamed('PaperReferenceId', 'PaperId')\n",
    "    PapersRefCite = PaperId.join(PaperReferenceId, ['PaperId'], 'outer')\n",
    "    PapersRefCite = PapersRefCite.distinct() # not run. \n",
    "    print(f\"PapersRefCite dtypes: {PapersRefCite.dtypes}\")\n",
    "    mag.saveFile(PapersRefCite, \"datacuration\", \"PapersRefCite.txt\") # sanity check (and SI)\n",
    "    \n",
    "    # get papers that have less than or equal to 25 co-authors\n",
    "    PapersLessEqual25 = mag.getSubset('ProjectPapersAllDocType', ['PaperId', 'NumAuthors']) \\\n",
    "        .filter(F.col(\"NumAuthors\") <= 25) \\\n",
    "        .select('PaperId').distinct()\n",
    "    print(f\"PapersLessEqual25 dtypes: {PapersLessEqual25.dtypes}\")\n",
    "    mag.saveFile(PapersLessEqual25, \"datacuration\", \"Papers25.txt\") # sanity check (and SI)\n",
    "    \n",
    "    # join again \n",
    "    PapersClean = PapersRefCite.join(PapersLessEqual25, ['PaperId'], 'inner')\n",
    "    print(f\"PapersClean dtypes: {PapersRefCite.dtypes}\")\n",
    "    \n",
    "    # save it \n",
    "    mag.saveFile(PapersClean, \"datacuration\", \"PapersClean.txt\")"
   ]
  },
  {
   "cell_type": "code",
   "execution_count": 6,
   "id": "cd266ee6",
   "metadata": {},
   "outputs": [
    {
     "name": "stdout",
     "output_type": "stream",
     "text": [
      "PapersRefCite dtypes: [('PaperId', 'bigint')]\n"
     ]
    },
    {
     "ename": "KeyboardInterrupt",
     "evalue": "",
     "output_type": "error",
     "traceback": [
      "\u001b[0;31m---------------------------------------------------------------------------\u001b[0m",
      "\u001b[0;31mKeyboardInterrupt\u001b[0m                         Traceback (most recent call last)",
      "\u001b[0;32m<ipython-input-6-6588a4beb508>\u001b[0m in \u001b[0;36m<module>\u001b[0;34m\u001b[0m\n\u001b[0;32m----> 1\u001b[0;31m \u001b[0mgetFilteredPapers\u001b[0m\u001b[0;34m(\u001b[0m\u001b[0;34m)\u001b[0m\u001b[0;34m\u001b[0m\u001b[0;34m\u001b[0m\u001b[0m\n\u001b[0m",
      "\u001b[0;32m<ipython-input-5-81f91e9d434b>\u001b[0m in \u001b[0;36mgetFilteredPapers\u001b[0;34m()\u001b[0m\n\u001b[1;32m     15\u001b[0m     \u001b[0mPapersRefCite\u001b[0m \u001b[0;34m=\u001b[0m \u001b[0mPapersRefCite\u001b[0m\u001b[0;34m.\u001b[0m\u001b[0mdistinct\u001b[0m\u001b[0;34m(\u001b[0m\u001b[0;34m)\u001b[0m \u001b[0;31m# not run.\u001b[0m\u001b[0;34m\u001b[0m\u001b[0;34m\u001b[0m\u001b[0m\n\u001b[1;32m     16\u001b[0m     \u001b[0mprint\u001b[0m\u001b[0;34m(\u001b[0m\u001b[0;34mf\"PapersRefCite dtypes: {PapersRefCite.dtypes}\"\u001b[0m\u001b[0;34m)\u001b[0m\u001b[0;34m\u001b[0m\u001b[0;34m\u001b[0m\u001b[0m\n\u001b[0;32m---> 17\u001b[0;31m     \u001b[0mmag\u001b[0m\u001b[0;34m.\u001b[0m\u001b[0msaveFile\u001b[0m\u001b[0;34m(\u001b[0m\u001b[0mPapersRefCite\u001b[0m\u001b[0;34m,\u001b[0m \u001b[0;34m\"datacuration\"\u001b[0m\u001b[0;34m,\u001b[0m \u001b[0;34m\"PapersRefCite.txt\"\u001b[0m\u001b[0;34m)\u001b[0m \u001b[0;31m# sanity check (and SI)\u001b[0m\u001b[0;34m\u001b[0m\u001b[0;34m\u001b[0m\u001b[0m\n\u001b[0m\u001b[1;32m     18\u001b[0m \u001b[0;34m\u001b[0m\u001b[0m\n\u001b[1;32m     19\u001b[0m     \u001b[0;31m# get papers that have less than or equal to 25 co-authors\u001b[0m\u001b[0;34m\u001b[0m\u001b[0;34m\u001b[0m\u001b[0;34m\u001b[0m\u001b[0m\n",
      "\u001b[0;32m~/colab-productivity-covid/DataCuration/MAG.py\u001b[0m in \u001b[0;36msaveFile\u001b[0;34m(self, df, folderName, fileName)\u001b[0m\n\u001b[1;32m     58\u001b[0m   \u001b[0;32mdef\u001b[0m \u001b[0msaveFile\u001b[0m\u001b[0;34m(\u001b[0m\u001b[0mself\u001b[0m\u001b[0;34m,\u001b[0m \u001b[0mdf\u001b[0m\u001b[0;34m,\u001b[0m \u001b[0mfolderName\u001b[0m\u001b[0;34m,\u001b[0m \u001b[0mfileName\u001b[0m\u001b[0;34m)\u001b[0m\u001b[0;34m:\u001b[0m\u001b[0;34m\u001b[0m\u001b[0;34m\u001b[0m\u001b[0m\n\u001b[1;32m     59\u001b[0m     \u001b[0mdestination\u001b[0m \u001b[0;34m=\u001b[0m \u001b[0;34mf\"/home/vicp/data/mag2021_12_06/{folderName}/{fileName}\"\u001b[0m\u001b[0;34m\u001b[0m\u001b[0;34m\u001b[0m\u001b[0m\n\u001b[0;32m---> 60\u001b[0;31m     \u001b[0mdf\u001b[0m\u001b[0;34m.\u001b[0m\u001b[0mwrite\u001b[0m\u001b[0;34m.\u001b[0m\u001b[0moption\u001b[0m\u001b[0;34m(\u001b[0m\u001b[0;34m\"sep\"\u001b[0m\u001b[0;34m,\u001b[0m \u001b[0;34m\"\\t\"\u001b[0m\u001b[0;34m)\u001b[0m\u001b[0;34m.\u001b[0m\u001b[0moption\u001b[0m\u001b[0;34m(\u001b[0m\u001b[0;34m\"encoding\"\u001b[0m\u001b[0;34m,\u001b[0m \u001b[0;34m\"UTF-8\"\u001b[0m\u001b[0;34m)\u001b[0m\u001b[0;31m\\\u001b[0m\u001b[0;34m\u001b[0m\u001b[0;34m\u001b[0m\u001b[0m\n\u001b[0m\u001b[1;32m     61\u001b[0m     \u001b[0;34m.\u001b[0m\u001b[0mcsv\u001b[0m\u001b[0;34m(\u001b[0m\u001b[0mdestination\u001b[0m\u001b[0;34m)\u001b[0m\u001b[0;34m\u001b[0m\u001b[0;34m\u001b[0m\u001b[0m\n\u001b[1;32m     62\u001b[0m \u001b[0;34m\u001b[0m\u001b[0m\n",
      "\u001b[0;32m~/.conda/envs/nerdenv/lib/python3.8/site-packages/pyspark/sql/readwriter.py\u001b[0m in \u001b[0;36mcsv\u001b[0;34m(self, path, mode, compression, sep, quote, escape, header, nullValue, escapeQuotes, quoteAll, dateFormat, timestampFormat, ignoreLeadingWhiteSpace, ignoreTrailingWhiteSpace, charToEscapeQuoteEscaping, encoding, emptyValue, lineSep)\u001b[0m\n\u001b[1;32m   1025\u001b[0m                        \u001b[0mcharToEscapeQuoteEscaping\u001b[0m\u001b[0;34m=\u001b[0m\u001b[0mcharToEscapeQuoteEscaping\u001b[0m\u001b[0;34m,\u001b[0m\u001b[0;34m\u001b[0m\u001b[0;34m\u001b[0m\u001b[0m\n\u001b[1;32m   1026\u001b[0m                        encoding=encoding, emptyValue=emptyValue, lineSep=lineSep)\n\u001b[0;32m-> 1027\u001b[0;31m         \u001b[0mself\u001b[0m\u001b[0;34m.\u001b[0m\u001b[0m_jwrite\u001b[0m\u001b[0;34m.\u001b[0m\u001b[0mcsv\u001b[0m\u001b[0;34m(\u001b[0m\u001b[0mpath\u001b[0m\u001b[0;34m)\u001b[0m\u001b[0;34m\u001b[0m\u001b[0;34m\u001b[0m\u001b[0m\n\u001b[0m\u001b[1;32m   1028\u001b[0m \u001b[0;34m\u001b[0m\u001b[0m\n\u001b[1;32m   1029\u001b[0m     \u001b[0;34m@\u001b[0m\u001b[0msince\u001b[0m\u001b[0;34m(\u001b[0m\u001b[0;36m1.5\u001b[0m\u001b[0;34m)\u001b[0m\u001b[0;34m\u001b[0m\u001b[0;34m\u001b[0m\u001b[0m\n",
      "\u001b[0;32m~/.conda/envs/nerdenv/lib/python3.8/site-packages/py4j/java_gateway.py\u001b[0m in \u001b[0;36m__call__\u001b[0;34m(self, *args)\u001b[0m\n\u001b[1;32m   1301\u001b[0m             \u001b[0mproto\u001b[0m\u001b[0;34m.\u001b[0m\u001b[0mEND_COMMAND_PART\u001b[0m\u001b[0;34m\u001b[0m\u001b[0;34m\u001b[0m\u001b[0m\n\u001b[1;32m   1302\u001b[0m \u001b[0;34m\u001b[0m\u001b[0m\n\u001b[0;32m-> 1303\u001b[0;31m         \u001b[0manswer\u001b[0m \u001b[0;34m=\u001b[0m \u001b[0mself\u001b[0m\u001b[0;34m.\u001b[0m\u001b[0mgateway_client\u001b[0m\u001b[0;34m.\u001b[0m\u001b[0msend_command\u001b[0m\u001b[0;34m(\u001b[0m\u001b[0mcommand\u001b[0m\u001b[0;34m)\u001b[0m\u001b[0;34m\u001b[0m\u001b[0;34m\u001b[0m\u001b[0m\n\u001b[0m\u001b[1;32m   1304\u001b[0m         return_value = get_return_value(\n\u001b[1;32m   1305\u001b[0m             answer, self.gateway_client, self.target_id, self.name)\n",
      "\u001b[0;32m~/.conda/envs/nerdenv/lib/python3.8/site-packages/py4j/java_gateway.py\u001b[0m in \u001b[0;36msend_command\u001b[0;34m(self, command, retry, binary)\u001b[0m\n\u001b[1;32m   1031\u001b[0m         \u001b[0mconnection\u001b[0m \u001b[0;34m=\u001b[0m \u001b[0mself\u001b[0m\u001b[0;34m.\u001b[0m\u001b[0m_get_connection\u001b[0m\u001b[0;34m(\u001b[0m\u001b[0;34m)\u001b[0m\u001b[0;34m\u001b[0m\u001b[0;34m\u001b[0m\u001b[0m\n\u001b[1;32m   1032\u001b[0m         \u001b[0;32mtry\u001b[0m\u001b[0;34m:\u001b[0m\u001b[0;34m\u001b[0m\u001b[0;34m\u001b[0m\u001b[0m\n\u001b[0;32m-> 1033\u001b[0;31m             \u001b[0mresponse\u001b[0m \u001b[0;34m=\u001b[0m \u001b[0mconnection\u001b[0m\u001b[0;34m.\u001b[0m\u001b[0msend_command\u001b[0m\u001b[0;34m(\u001b[0m\u001b[0mcommand\u001b[0m\u001b[0;34m)\u001b[0m\u001b[0;34m\u001b[0m\u001b[0;34m\u001b[0m\u001b[0m\n\u001b[0m\u001b[1;32m   1034\u001b[0m             \u001b[0;32mif\u001b[0m \u001b[0mbinary\u001b[0m\u001b[0;34m:\u001b[0m\u001b[0;34m\u001b[0m\u001b[0;34m\u001b[0m\u001b[0m\n\u001b[1;32m   1035\u001b[0m                 \u001b[0;32mreturn\u001b[0m \u001b[0mresponse\u001b[0m\u001b[0;34m,\u001b[0m \u001b[0mself\u001b[0m\u001b[0;34m.\u001b[0m\u001b[0m_create_connection_guard\u001b[0m\u001b[0;34m(\u001b[0m\u001b[0mconnection\u001b[0m\u001b[0;34m)\u001b[0m\u001b[0;34m\u001b[0m\u001b[0;34m\u001b[0m\u001b[0m\n",
      "\u001b[0;32m~/.conda/envs/nerdenv/lib/python3.8/site-packages/py4j/java_gateway.py\u001b[0m in \u001b[0;36msend_command\u001b[0;34m(self, command)\u001b[0m\n\u001b[1;32m   1198\u001b[0m \u001b[0;34m\u001b[0m\u001b[0m\n\u001b[1;32m   1199\u001b[0m         \u001b[0;32mtry\u001b[0m\u001b[0;34m:\u001b[0m\u001b[0;34m\u001b[0m\u001b[0;34m\u001b[0m\u001b[0m\n\u001b[0;32m-> 1200\u001b[0;31m             \u001b[0manswer\u001b[0m \u001b[0;34m=\u001b[0m \u001b[0msmart_decode\u001b[0m\u001b[0;34m(\u001b[0m\u001b[0mself\u001b[0m\u001b[0;34m.\u001b[0m\u001b[0mstream\u001b[0m\u001b[0;34m.\u001b[0m\u001b[0mreadline\u001b[0m\u001b[0;34m(\u001b[0m\u001b[0;34m)\u001b[0m\u001b[0;34m[\u001b[0m\u001b[0;34m:\u001b[0m\u001b[0;34m-\u001b[0m\u001b[0;36m1\u001b[0m\u001b[0;34m]\u001b[0m\u001b[0;34m)\u001b[0m\u001b[0;34m\u001b[0m\u001b[0;34m\u001b[0m\u001b[0m\n\u001b[0m\u001b[1;32m   1201\u001b[0m             \u001b[0mlogger\u001b[0m\u001b[0;34m.\u001b[0m\u001b[0mdebug\u001b[0m\u001b[0;34m(\u001b[0m\u001b[0;34m\"Answer received: {0}\"\u001b[0m\u001b[0;34m.\u001b[0m\u001b[0mformat\u001b[0m\u001b[0;34m(\u001b[0m\u001b[0manswer\u001b[0m\u001b[0;34m)\u001b[0m\u001b[0;34m)\u001b[0m\u001b[0;34m\u001b[0m\u001b[0;34m\u001b[0m\u001b[0m\n\u001b[1;32m   1202\u001b[0m             \u001b[0;32mif\u001b[0m \u001b[0manswer\u001b[0m\u001b[0;34m.\u001b[0m\u001b[0mstartswith\u001b[0m\u001b[0;34m(\u001b[0m\u001b[0mproto\u001b[0m\u001b[0;34m.\u001b[0m\u001b[0mRETURN_MESSAGE\u001b[0m\u001b[0;34m)\u001b[0m\u001b[0;34m:\u001b[0m\u001b[0;34m\u001b[0m\u001b[0;34m\u001b[0m\u001b[0m\n",
      "\u001b[0;32m~/.conda/envs/nerdenv/lib/python3.8/socket.py\u001b[0m in \u001b[0;36mreadinto\u001b[0;34m(self, b)\u001b[0m\n\u001b[1;32m    667\u001b[0m         \u001b[0;32mwhile\u001b[0m \u001b[0;32mTrue\u001b[0m\u001b[0;34m:\u001b[0m\u001b[0;34m\u001b[0m\u001b[0;34m\u001b[0m\u001b[0m\n\u001b[1;32m    668\u001b[0m             \u001b[0;32mtry\u001b[0m\u001b[0;34m:\u001b[0m\u001b[0;34m\u001b[0m\u001b[0;34m\u001b[0m\u001b[0m\n\u001b[0;32m--> 669\u001b[0;31m                 \u001b[0;32mreturn\u001b[0m \u001b[0mself\u001b[0m\u001b[0;34m.\u001b[0m\u001b[0m_sock\u001b[0m\u001b[0;34m.\u001b[0m\u001b[0mrecv_into\u001b[0m\u001b[0;34m(\u001b[0m\u001b[0mb\u001b[0m\u001b[0;34m)\u001b[0m\u001b[0;34m\u001b[0m\u001b[0;34m\u001b[0m\u001b[0m\n\u001b[0m\u001b[1;32m    670\u001b[0m             \u001b[0;32mexcept\u001b[0m \u001b[0mtimeout\u001b[0m\u001b[0;34m:\u001b[0m\u001b[0;34m\u001b[0m\u001b[0;34m\u001b[0m\u001b[0m\n\u001b[1;32m    671\u001b[0m                 \u001b[0mself\u001b[0m\u001b[0;34m.\u001b[0m\u001b[0m_timeout_occurred\u001b[0m \u001b[0;34m=\u001b[0m \u001b[0;32mTrue\u001b[0m\u001b[0;34m\u001b[0m\u001b[0;34m\u001b[0m\u001b[0m\n",
      "\u001b[0;31mKeyboardInterrupt\u001b[0m: "
     ]
    }
   ],
   "source": [
    "getFilteredPapers()"
   ]
  },
  {
   "cell_type": "markdown",
   "id": "5349cc49",
   "metadata": {},
   "source": [
    "# Filter Authors (all)"
   ]
  },
  {
   "cell_type": "code",
   "execution_count": null,
   "id": "d29db0f7",
   "metadata": {},
   "outputs": [],
   "source": [
    "def getFilteredAuthors(): \n",
    "    \n",
    "    # load files\n",
    "    paaaD = mag.getSubset('PaperAuthorAffiliationsAttributesAllDocType', ['PaperId', 'AuthorId'])\n",
    "    PapersClean = mag.getDataframe('PapersClean')\n",
    "    print(f\"paaaD dtypes: {paaaD.dtypes}\")\n",
    "    print(f\"PapersClean dtypes: {PapersClean.dtypes}\")\n",
    "    \n",
    "    # inner join on PaperId\n",
    "    AuthorsClean = PapersClean.join(paaaD, ['PaperId'], \"inner\") \\\n",
    "        .select('AuthorId') \\\n",
    "        .distinct() \n",
    "    print(f\"AuthorsClean dtypes: {AuthorsClean.dtypes}\")\n",
    "    \n",
    "    # write file \n",
    "    mag.saveFile(AuthorsClean, \"datacuration\", \"AuthorsClean.txt\")"
   ]
  },
  {
   "cell_type": "code",
   "execution_count": null,
   "id": "7892ff4d",
   "metadata": {
    "scrolled": true
   },
   "outputs": [],
   "source": [
    "getFilteredAuthors()"
   ]
  },
  {
   "cell_type": "markdown",
   "id": "de0034e3",
   "metadata": {},
   "source": [
    "# Map FieldOfStudyId to NormalizedName"
   ]
  },
  {
   "cell_type": "code",
   "execution_count": null,
   "id": "2e4ac389",
   "metadata": {},
   "outputs": [],
   "source": [
    "def NormalizedName(): \n",
    "    \n",
    "    # NormalizedName and FieldOfStudyId mapping. \n",
    "    FoS = mag.getSubset(\"FieldsOfStudy\", ['FieldOfStudyId', 'NormalizedName']) \\\n",
    "        .distinct() \n",
    "    print(f\"dtypes: {FoS.dtypes}\")\n",
    "    \n",
    "    # write file \n",
    "    mag.saveFile(FoS, \"datacuration\", \"FoS.txt\")"
   ]
  },
  {
   "cell_type": "code",
   "execution_count": null,
   "id": "22c6eb97",
   "metadata": {},
   "outputs": [],
   "source": [
    "NormalizedName()"
   ]
  },
  {
   "cell_type": "markdown",
   "id": "44cfd8e5",
   "metadata": {},
   "source": [
    "## Create Final ProjectPapersAll"
   ]
  },
  {
   "cell_type": "code",
   "execution_count": null,
   "id": "03181047",
   "metadata": {},
   "outputs": [],
   "source": [
    "def ProjPapersAll(PaperSub, outname): \n",
    "    \n",
    "    # load files \n",
    "    ProjectPapersAllDocType = mag.getDataframe('ProjectPapersAllDocType')\n",
    "    PapersClean = mag.getDataframe(PaperSub) # here as well \n",
    "    FoS = mag.getDataframe('FoS')\n",
    "    \n",
    "    # filter (only want 4 out of 7 columns I think). \n",
    "    ProjectPapersAll = ProjectPapersAllDocType.join(PapersClean, ['PaperId'], \"inner\") \\\n",
    "        .join(FoS, ['FieldOfStudyId'], \"inner\") \\\n",
    "        .select('PaperId', 'FieldOfStudyId', 'NormalizedName', 'DocType', 'Date') \\\n",
    "        .distinct() \n",
    "    print(f\"ProjectPapersAll dtypes: {ProjectPapersAll.dtypes}\")\n",
    "    \n",
    "    # write file \n",
    "    mag.saveFile(ProjectPapersAll, \"datacuration\", outname)"
   ]
  },
  {
   "cell_type": "code",
   "execution_count": null,
   "id": "46b82dc0",
   "metadata": {},
   "outputs": [],
   "source": [
    "ProjPapersAll('PapersClean', 'ProjectPapersAll.txt')"
   ]
  },
  {
   "cell_type": "code",
   "execution_count": null,
   "id": "0160326a",
   "metadata": {},
   "outputs": [],
   "source": [
    "ProjPapersAll('PapersRefCite', 'ProjectPapersRefCite.txt')"
   ]
  },
  {
   "cell_type": "code",
   "execution_count": null,
   "id": "e8d1d110",
   "metadata": {},
   "outputs": [],
   "source": [
    "ProjPapersAll('Papers25', 'ProjectPapers25.txt')"
   ]
  },
  {
   "cell_type": "markdown",
   "id": "6e25e7cf",
   "metadata": {},
   "source": [
    "## Create Final ProjectAuthorsAll\n"
   ]
  },
  {
   "cell_type": "code",
   "execution_count": null,
   "id": "f77d5d07",
   "metadata": {},
   "outputs": [],
   "source": [
    "def ProjAuthorsAll(): \n",
    "    \n",
    "    # load files \n",
    "    ProjectAuthorsAllDocType = mag.getDataframe('ProjectAuthorsAllDocType')\n",
    "    AuthorsClean = mag.getDataframe('AuthorsClean')\n",
    "    \n",
    "    # filter (keeping most columns here)\n",
    "    ProjectAuthorsAll = ProjectAuthorsAllDocType.join(AuthorsClean, ['AuthorId'], \"inner\") \\\n",
    "        .select('AuthorId', 'DisplayName', 'Country', 'Gender', 'Genderized', 'MinDate') \\\n",
    "        .distinct()\n",
    "    print(f\"ProjectAuthorsAll dtypes: {ProjectAuthorsAll.dtypes}\")\n",
    "    \n",
    "    # write file\n",
    "    mag.saveFile(ProjectAuthorsAll, \"datacuration\", \"ProjectAuthorsAll.txt\")"
   ]
  },
  {
   "cell_type": "code",
   "execution_count": null,
   "id": "eb6bfcc9",
   "metadata": {},
   "outputs": [],
   "source": [
    "ProjAuthorsAll()"
   ]
  },
  {
   "cell_type": "markdown",
   "id": "f0a6dce2",
   "metadata": {},
   "source": [
    "## Create Final PaperAuthorAffiliationsAttributesAll"
   ]
  },
  {
   "cell_type": "code",
   "execution_count": null,
   "id": "95a522e4",
   "metadata": {},
   "outputs": [],
   "source": [
    "def PaperAuthorAffiliationsFun(ProjectPapersSub, outname): \n",
    "    \n",
    "    # load files (remember, ProjectPapersAll is already filtered).\n",
    "    ProjectPapersAll = mag.getSubset(ProjectPapersSub, ['PaperId', 'DocType', 'FieldOfStudyId'])\n",
    "    PaperAuthorAffiliationsAttributesAllDocType = mag.getDataframe('PaperAuthorAffiliationsAttributesAllDocType')\n",
    "    FoS = mag.getDataframe('FoS')\n",
    "    \n",
    "    # join \n",
    "    PaperAuthorAll = PaperAuthorAffiliationsAttributesAllDocType.join(ProjectPapersAll, ['PaperId'], \"inner\") \\\n",
    "        .join(FoS, ['FieldOfStudyId'], \"inner\") \\\n",
    "        .select('PaperId', 'AuthorId', 'Date', 'Gender', 'ScientificAge', 'CountryCode', 'DocType', 'FieldOfStudyId', \"NormalizedName\")\n",
    "    print(f\"dtypes: {PaperAuthorAll.dtypes}\")\n",
    "\n",
    "    # write file \n",
    "    mag.saveFile(PaperAuthorAll, \"datacuration\", outname)"
   ]
  },
  {
   "cell_type": "code",
   "execution_count": null,
   "id": "e62746d5",
   "metadata": {},
   "outputs": [],
   "source": [
    "# all doctypes and both filters (not run right now)\n",
    "PaperAuthorAffiliationsFun('ProjectPapersAll', 'PaperAuthorAffiliationsAttributesAll.txt')"
   ]
  },
  {
   "cell_type": "code",
   "execution_count": null,
   "id": "fa99d71a",
   "metadata": {},
   "outputs": [],
   "source": [
    "# all doctypes and 25 filter\n",
    "PaperAuthorAffiliationsFun('ProjectPapers25', 'PaperAuthorAffiliationsAttributes25.txt')"
   ]
  },
  {
   "cell_type": "code",
   "execution_count": null,
   "id": "052f9839",
   "metadata": {},
   "outputs": [],
   "source": [
    "# all doctypes and ref/cite filter\n",
    "PaperAuthorAffiliationsFun('ProjectPapersRefCite', 'PaperAuthorAffiliationsAttributesRefCite.txt')"
   ]
  },
  {
   "cell_type": "code",
   "execution_count": null,
   "id": "211119fe",
   "metadata": {},
   "outputs": [],
   "source": [
    "# no filter (should actually be pretty much the same as PaperAuthorAffiliationsAttributesAllDocType) (not run right now)\n",
    "PaperAuthorAffiliationsFun('ProjectPapersAllDocType', \"PaperAuthorAffiliationsAttributesNoFilter.txt\")"
   ]
  },
  {
   "cell_type": "markdown",
   "id": "834d3e99",
   "metadata": {},
   "source": [
    "## Create Final ProjectPapersRepo"
   ]
  },
  {
   "cell_type": "code",
   "execution_count": null,
   "id": "26300677",
   "metadata": {},
   "outputs": [],
   "source": [
    "def ProjPapersRepo(): \n",
    "    \n",
    "    # load files \n",
    "    ProjPapersAll = mag.getDataframe(\"ProjectPapersAll\")\n",
    "    \n",
    "    # filter\n",
    "    ProjPapersRepo = ProjPapersAll.filter(F.col(\"DocType\") == \"Repository\")\n",
    "    print(f\"dtypes: {ProjPapersRepo.dtypes}\")\n",
    "    \n",
    "    # write file\n",
    "    mag.saveFile(ProjPapersRepo, \"datacuration\", \"ProjectPapersRepo.txt\")"
   ]
  },
  {
   "cell_type": "code",
   "execution_count": null,
   "id": "3394eeef",
   "metadata": {},
   "outputs": [],
   "source": [
    "ProjPapersRepo()"
   ]
  },
  {
   "cell_type": "markdown",
   "id": "fd4cb0ba",
   "metadata": {},
   "source": [
    "## Create Final PaperAuthorAffiliationsAttributesRepo"
   ]
  },
  {
   "cell_type": "code",
   "execution_count": null,
   "id": "c7cddbdd",
   "metadata": {},
   "outputs": [],
   "source": [
    "def PaperAuthorAffiliationsRepo(): \n",
    "    \n",
    "    # load files \n",
    "    PaperAuthorAll = mag.getDataframe(\"PaperAuthorAffiliationsAttributesAll\")\n",
    "    \n",
    "    # filter\n",
    "    PaperAuthorRepo = PaperAuthorAll.filter(F.col(\"DocType\") == \"Repository\")\n",
    "    print(f\"dtypes: {PaperAuthorRepo.dtypes}\")\n",
    "    \n",
    "    # write file\n",
    "    mag.saveFile(PaperAuthorRepo, \"datacuration\", \"PaperAuthorAffiliationsAttributesRepo.txt\")"
   ]
  },
  {
   "cell_type": "code",
   "execution_count": null,
   "id": "470d8df7",
   "metadata": {},
   "outputs": [],
   "source": [
    "PaperAuthorAffiliationsRepo()"
   ]
  }
 ],
 "metadata": {
  "kernelspec": {
   "display_name": "Python (nerdenv)",
   "language": "python",
   "name": "nerdenv"
  },
  "language_info": {
   "codemirror_mode": {
    "name": "ipython",
    "version": 3
   },
   "file_extension": ".py",
   "mimetype": "text/x-python",
   "name": "python",
   "nbconvert_exporter": "python",
   "pygments_lexer": "ipython3",
   "version": "3.8.8"
  }
 },
 "nbformat": 4,
 "nbformat_minor": 5
}
