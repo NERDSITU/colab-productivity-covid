{
 "cells": [
  {
   "cell_type": "code",
   "execution_count": null,
   "id": "45b824bf",
   "metadata": {},
   "outputs": [],
   "source": [
    "'''\n",
    "VMP 2022-03-02:\n",
    "The first preprocessing step after Lasse.\n",
    "NB: probably need to add function to get 'PaperRootField'. \n",
    "'''"
   ]
  },
  {
   "cell_type": "code",
   "execution_count": 1,
   "id": "58278c0f",
   "metadata": {},
   "outputs": [
    {
     "name": "stdout",
     "output_type": "stream",
     "text": [
      "['NAME STATE JOBID', 'cluster_new.job RUNNING 60832', 'cluster_new.job RUNNING 60831', 'cluster_new.job RUNNING 60830', 'jupyter-notebook RUNNING 60829', 'simple-gpu RUNNING 60734', 'jupyter-notebook RUNNING 60827', 'jupyter-notebook RUNNING 60828', 'jupyter-notebook RUNNING 60825', '']\n"
     ]
    }
   ],
   "source": [
    "import sys  \n",
    "sys.path.insert(0, '/home/vicp')\n",
    "from MAGspark import get_mag_with_cluster_connection\n",
    "from MAG import MicrosoftAcademicGraph\n",
    "import os\n",
    "from pyspark.sql import functions as F, Window\n",
    "import pandas as pd\n",
    "import matplotlib.pyplot as plt\n",
    "import numpy as np\n",
    "from pyspark.sql.functions import avg\n",
    "os.chdir('/home/vicp')\n",
    "mag, spark = get_mag_with_cluster_connection(60830, \n",
    "                               memory_per_executor=16000)"
   ]
  },
  {
   "cell_type": "code",
   "execution_count": 2,
   "id": "2716b4aa",
   "metadata": {},
   "outputs": [
    {
     "data": {
      "text/html": [
       "\n",
       "            <div>\n",
       "                <p><b>SparkSession - in-memory</b></p>\n",
       "                \n",
       "        <div>\n",
       "            <p><b>SparkContext</b></p>\n",
       "\n",
       "            <p><a href=\"http://desktop5.hpc.itu.dk:4040\">Spark UI</a></p>\n",
       "\n",
       "            <dl>\n",
       "              <dt>Version</dt>\n",
       "                <dd><code>v3.0.3</code></dd>\n",
       "              <dt>Master</dt>\n",
       "                <dd><code>spark://172.16.16.106:7077</code></dd>\n",
       "              <dt>AppName</dt>\n",
       "                <dd><code>pyspark-shell</code></dd>\n",
       "            </dl>\n",
       "        </div>\n",
       "        \n",
       "            </div>\n",
       "        "
      ],
      "text/plain": [
       "<pyspark.sql.session.SparkSession at 0x7fe8191eaf10>"
      ]
     },
     "execution_count": 2,
     "metadata": {},
     "output_type": "execute_result"
    }
   ],
   "source": [
    "spark"
   ]
  },
  {
   "cell_type": "code",
   "execution_count": 3,
   "id": "95683518",
   "metadata": {},
   "outputs": [],
   "source": [
    "author_affiliations = mag.getDataframe('PaperAuthorAffiliations')\n",
    "papers = mag.getDataframe('Papers')\n",
    "ag = mag.getDataframe('AuthorsGenderized')\n",
    "affiliations = mag.getDataframe('Affiliations')\n",
    "#paa_att = mag.getDataframe('PaperAuthorAffiliationsAttributes')\n",
    "prf = mag.getDataframe('PaperRootField')"
   ]
  },
  {
   "cell_type": "markdown",
   "id": "596a937f",
   "metadata": {},
   "source": [
    "## ProjectPapers "
   ]
  },
  {
   "cell_type": "code",
   "execution_count": 4,
   "id": "dce76f43",
   "metadata": {},
   "outputs": [],
   "source": [
    "def paper_family_attributes(mag): \n",
    "    \n",
    "    author_affiliations = mag.getDataframe('PaperAuthorAffiliations')\n",
    "    papers = mag.getDataframe('Papers')\n",
    "    prf = mag.getDataframe('PaperRootField')\n",
    "    \n",
    "    query = \"\"\"\n",
    "    SELECT \n",
    "        x.PaperId, \n",
    "        x.FamilyId,\n",
    "        prf1.FieldOfStudyId,\n",
    "        x.DocType,\n",
    "        x.Date,\n",
    "        x.PubOrderInFamily,\n",
    "        na.num_authors \n",
    "    FROM (\n",
    "        SELECT \n",
    "            p.PaperId as PaperId, \n",
    "            COALESCE(p.FamilyId, p.PaperId) as FamilyId,\n",
    "            p.DocType as DocType, \n",
    "            p.Date as Date,\n",
    "            ROW_NUMBER() OVER(PARTITION BY COALESCE(p.FamilyId, p.PaperId) ORDER BY p.Date ASC) AS PubOrderInFamily\n",
    "        FROM Papers p \n",
    "        INNER JOIN PaperRootField prf ON p.PaperId = prf.PaperId\n",
    "        WHERE IsStem = 1 AND p.Year >= 2010 \n",
    "    ) x \n",
    "    INNER JOIN (\n",
    "        SELECT paa.PaperId, COUNT(DISTINCT(paa.AuthorId)) as num_authors \n",
    "        FROM PaperAuthorAffiliations paa \n",
    "        GROUP BY paa.PaperId\n",
    "    ) na ON x.PaperId = na.PaperId \n",
    "    INNER JOIN PaperRootField prf1 ON x.PaperId = prf1.PaperId\n",
    "    WHERE PubOrderInFamily = 1\n",
    "    \"\"\"\n",
    "    \n",
    "    paper_families = mag.query_sql(query)\n",
    "    mag.saveFile(paper_families, \"datacuration\", \"ProjectPapersAllDocType.txt\")\n",
    "    "
   ]
  },
  {
   "cell_type": "code",
   "execution_count": 5,
   "id": "66f61e92",
   "metadata": {},
   "outputs": [],
   "source": [
    "paper_family_attributes(mag)"
   ]
  },
  {
   "cell_type": "markdown",
   "id": "0c902093",
   "metadata": {},
   "source": [
    "# Scientific Age"
   ]
  },
  {
   "cell_type": "code",
   "execution_count": 6,
   "id": "d621048e",
   "metadata": {},
   "outputs": [],
   "source": [
    "def scientic_age(mag): \n",
    "    \n",
    "    author_affiliations = mag.getDataframe('PaperAuthorAffiliations')\n",
    "    papers = mag.getDataframe('Papers')\n",
    "    prf = mag.getDataframe('PaperRootField')\n",
    "    \n",
    "    query = \"\"\"\n",
    "        SELECT paa.AuthorId, \n",
    "        MIN(CASE WHEN IsStem = 1 THEN p.Date ELSE null END) as MinDateStem,\n",
    "        MIN(p.Date) as MinDate\n",
    "        FROM PaperAuthorAffiliations paa \n",
    "        INNER JOIN PaperRootField prf ON paa.PaperId = prf.PaperId\n",
    "        INNER JOIN Papers p ON paa.PaperId = p.PaperId\n",
    "        GROUP BY paa.AuthorId\n",
    "    \"\"\"\n",
    "    \n",
    "    s_age = mag.query_sql(query)\n",
    "    mag.saveFile(s_age, \"datacuration\", \"AuthorScientificAgeAllDocType.txt\")\n"
   ]
  },
  {
   "cell_type": "code",
   "execution_count": 7,
   "id": "97ce03f1",
   "metadata": {},
   "outputs": [],
   "source": [
    "scientic_age(mag)"
   ]
  },
  {
   "cell_type": "markdown",
   "id": "292f204b",
   "metadata": {},
   "source": [
    "# PaperAuthorAffiliationsAttributes"
   ]
  },
  {
   "cell_type": "code",
   "execution_count": 8,
   "id": "f4af5c92",
   "metadata": {},
   "outputs": [],
   "source": [
    "# here the load is necessary\n",
    "pp = mag.getDataframe('ProjectPapersAllDocType')\n",
    "sa = mag.getDataframe('AuthorScientificAgeAllDocType')"
   ]
  },
  {
   "cell_type": "code",
   "execution_count": 9,
   "id": "e32e11a2",
   "metadata": {},
   "outputs": [],
   "source": [
    "def paper_author_affiliations_with_attributes(mag):\n",
    "\n",
    "    query = \"\"\"\n",
    "    SELECT\n",
    "        pp.PaperID,\n",
    "        paa.AuthorId,\n",
    "        pp.Date,\n",
    "        INT(YEAR(pp.Date)) as Year,\n",
    "        INT(MONTH(pp.Date)) as Month,\n",
    "        INT(QUARTER(pp.Date)) as Quarter,\n",
    "        CASE WHEN ag.Genderized IN (0,1) THEN ag.Genderized ELSE -1 END as Gender,\n",
    "        DATEDIFF(pp.Date, asa.MinDate) / 365.0 as ScientificAge, \n",
    "        a.Iso3166Code as CountryCode\n",
    "        FROM ProjectPapersAllDocType pp\n",
    "        INNER JOIN PaperAuthorAffiliations paa ON pp.PaperId = paa.PaperId\n",
    "        INNER JOIN AuthorsGenderized ag ON paa.AuthorId = ag.AuthorId \n",
    "        INNER JOIN AuthorScientificAgeAllDocType asa ON ag.AuthorId = asa.AuthorId \n",
    "        LEFT JOIN Affiliations a ON paa.AffiliationId = a.AffiliationId\n",
    "    \"\"\"\n",
    "\n",
    "    attribute_paa = mag.query_sql(query)\n",
    "    mag.saveFile(attribute_paa, \"datacuration\", \"PaperAuthorAffiliationsAttributesAllDocType.txt\")"
   ]
  },
  {
   "cell_type": "code",
   "execution_count": 10,
   "id": "80a60df0",
   "metadata": {},
   "outputs": [],
   "source": [
    "paper_author_affiliations_with_attributes(mag)"
   ]
  },
  {
   "cell_type": "markdown",
   "id": "e40c91ed",
   "metadata": {},
   "source": [
    "# PaperAuthors"
   ]
  },
  {
   "cell_type": "code",
   "execution_count": 11,
   "id": "3f4c2e83",
   "metadata": {},
   "outputs": [],
   "source": [
    "paaa = mag.getDataframe('PaperAuthorAffiliationsAttributesAllDocType')"
   ]
  },
  {
   "cell_type": "code",
   "execution_count": 12,
   "id": "027c61ea",
   "metadata": {},
   "outputs": [],
   "source": [
    "def project_authors(mag): \n",
    "    \n",
    "    query = \"\"\"\n",
    "    SELECT ag.*, as.MinDate, as.MinDateStem\n",
    "    FROM AuthorsGenderized ag\n",
    "    LEFT JOIN AuthorScientificAgeAllDocType as ON ag.AuthorId = as.AuthorId \n",
    "    WHERE ag.AuthorId IN (SELECT DISTINCT(AuthorId) FROM PaperAuthorAffiliationsAttributesAllDocType)\n",
    "    \"\"\"\n",
    "    \n",
    "    project_authors = mag.query_sql(query)\n",
    "    mag.saveFile(project_authors, \"datacuration\", \"ProjectAuthorsAllDocType.txt\")"
   ]
  },
  {
   "cell_type": "code",
   "execution_count": 13,
   "id": "a33c4fed",
   "metadata": {},
   "outputs": [],
   "source": [
    "project_authors(mag)"
   ]
  }
 ],
 "metadata": {
  "kernelspec": {
   "display_name": "Python (nerdenv)",
   "language": "python",
   "name": "nerdenv"
  },
  "language_info": {
   "codemirror_mode": {
    "name": "ipython",
    "version": 3
   },
   "file_extension": ".py",
   "mimetype": "text/x-python",
   "name": "python",
   "nbconvert_exporter": "python",
   "pygments_lexer": "ipython3",
   "version": "3.8.8"
  }
 },
 "nbformat": 4,
 "nbformat_minor": 5
}
