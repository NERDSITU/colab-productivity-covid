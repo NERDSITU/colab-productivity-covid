{
 "cells": [
  {
   "cell_type": "code",
   "execution_count": 1,
   "metadata": {
    "colab": {
     "base_uri": "https://localhost:8080/"
    },
    "executionInfo": {
     "elapsed": 14,
     "status": "ok",
     "timestamp": 1641551805305,
     "user": {
      "displayName": "Sinatra Lab",
      "photoUrl": "https://lh3.googleusercontent.com/a/default-user=s64",
      "userId": "16209430936604316323"
     },
     "user_tz": -60
    },
    "id": "LiVloU2UbH-4",
    "outputId": "6808aca9-7486-4c66-ceb7-ab0fde24c50c"
   },
   "outputs": [
    {
     "name": "stdout",
     "output_type": "stream",
     "text": [
      "Your runtime has 54.8 gigabytes of available RAM\n",
      "\n"
     ]
    }
   ],
   "source": [
    "# all of the usual spark setup.\n",
    "from psutil import virtual_memory\n",
    "ram_gb = virtual_memory().total / 1e9\n",
    "print('Your runtime has {:.1f} gigabytes of available RAM\\n'.format(ram_gb))"
   ]
  },
  {
   "cell_type": "code",
   "execution_count": 2,
   "metadata": {
    "executionInfo": {
     "elapsed": 109560,
     "status": "ok",
     "timestamp": 1641551914856,
     "user": {
      "displayName": "Sinatra Lab",
      "photoUrl": "https://lh3.googleusercontent.com/a/default-user=s64",
      "userId": "16209430936604316323"
     },
     "user_tz": -60
    },
    "id": "lwSfwGf5K-Ui"
   },
   "outputs": [],
   "source": [
    "# basic setup\n",
    "%%capture\n",
    "from google.colab import drive\n",
    "drive.mount('/content/gdrive')\n",
    "!apt-get update\n",
    "!apt-get install openjdk-8-jdk-headless -qq > /dev/null\n",
    "!wget -q https://dlcdn.apache.org/spark/spark-3.1.2/spark-3.1.2-bin-hadoop3.2.tgz\n",
    "!tar -xvzf spark-3.1.2-bin-hadoop3.2.tgz\n",
    "! pip install -q findspark\n",
    "! pip install pyspark"
   ]
  },
  {
   "cell_type": "code",
   "execution_count": 3,
   "metadata": {
    "executionInfo": {
     "elapsed": 9,
     "status": "ok",
     "timestamp": 1641551914857,
     "user": {
      "displayName": "Sinatra Lab",
      "photoUrl": "https://lh3.googleusercontent.com/a/default-user=s64",
      "userId": "16209430936604316323"
     },
     "user_tz": -60
    },
    "id": "AhkZIJzmK-dG"
   },
   "outputs": [],
   "source": [
    "# new try \n",
    "import os\n",
    "os.environ[\"SPARK_HOME\"] = \"/content/spark-3.1.2-bin-hadoop3.2\""
   ]
  },
  {
   "cell_type": "code",
   "execution_count": 4,
   "metadata": {
    "executionInfo": {
     "elapsed": 9000,
     "status": "ok",
     "timestamp": 1641551923851,
     "user": {
      "displayName": "Sinatra Lab",
      "photoUrl": "https://lh3.googleusercontent.com/a/default-user=s64",
      "userId": "16209430936604316323"
     },
     "user_tz": -60
    },
    "id": "JcTNOxsYK-kY"
   },
   "outputs": [],
   "source": [
    "# import stuff\n",
    "import findspark\n",
    "findspark.init()\n",
    "import sys\n",
    "import pandas as pd\n",
    "sys.path.insert(0,'/content/gdrive/MyDrive/<path to MAGspark1.py and MAG.py>')\n",
    "from pyspark.sql import SparkSession\n",
    "from pyspark.sql.types import *\n",
    "from MAG import MicrosoftAcademicGraph\n",
    "from MAGspark1 import get_mag_with_node_connection\n",
    "import datetime, time \n",
    "mag, spark = get_mag_with_node_connection()"
   ]
  },
  {
   "cell_type": "code",
   "execution_count": 5,
   "metadata": {
    "executionInfo": {
     "elapsed": 13,
     "status": "ok",
     "timestamp": 1641551923852,
     "user": {
      "displayName": "Sinatra Lab",
      "photoUrl": "https://lh3.googleusercontent.com/a/default-user=s64",
      "userId": "16209430936604316323"
     },
     "user_tz": -60
    },
    "id": "EqKTz52FK-rG"
   },
   "outputs": [],
   "source": [
    "spark.conf.set(\"spark.sql.execution.arrow.pyspark.enabled\", \"true\")\n",
    "from pyspark.sql.functions import col"
   ]
  },
  {
   "cell_type": "code",
   "execution_count": 6,
   "metadata": {
    "executionInfo": {
     "elapsed": 13,
     "status": "ok",
     "timestamp": 1641551923852,
     "user": {
      "displayName": "Sinatra Lab",
      "photoUrl": "https://lh3.googleusercontent.com/a/default-user=s64",
      "userId": "16209430936604316323"
     },
     "user_tz": -60
    },
    "id": "nQreoFRZSx1k"
   },
   "outputs": [],
   "source": [
    "gpath = \"/content/gdrive/MyDrive/<path to destination>\""
   ]
  },
  {
   "cell_type": "code",
   "execution_count": null,
   "metadata": {
    "id": "4JPFGnTG9mee"
   },
   "outputs": [],
   "source": [
    "'''\n",
    "Compute proportion of preprints to other doctypes, All file\n",
    "'''\n",
    "\n",
    "run = False\n",
    "\n",
    "if run:\n",
    "  years = range(2021, 2022)\n",
    "  for year in years:\n",
    "    m, d = (12, 31)\n",
    "    if year ==2021:\n",
    "      m, d = (6, 30)\n",
    "    \n",
    "    df = mag.getDataframe('PaperAuthorAffiliationsAttributesAll') \\\n",
    "    .select(\"PaperId\", \"Date\", \"DocType\") \\\n",
    "    .filter((col(\"Date\") >= datetime.date(year, 1, 1)) & (col(\"Date\") <= datetime.date(year, m, d))) \\\n",
    "    .select(\"PaperId\", \"Date\", \"DocType\") \\\n",
    "    .distinct() \\\n",
    "    .toPandas()\n",
    "    \n",
    "    df['Date'] = pd.to_datetime(df['Date']).dt.to_period(\"M\")\n",
    "    \n",
    "    (df[df.DocType=='Repository'].groupby('Date')['PaperId'].nunique() / \\\n",
    "     df[df.DocType!='Repository'].groupby('Date')['PaperId'].nunique()) \\\n",
    "     .reset_index(name='Proportion') \\\n",
    "     .to_csv(gpath+f\"RatiopreprintstoAll_{year}.csv\", index=False)\n",
    "     \n",
    "    print(year)\n"
   ]
  },
  {
   "cell_type": "code",
   "execution_count": null,
   "metadata": {
    "id": "FjdINNOmyrP9"
   },
   "outputs": [],
   "source": [
    "'''\n",
    "Compute overall stats for table in productivity panel, All file (filtered)\n",
    "'''\n",
    "\n",
    "run = True\n",
    "\n",
    "if run:\n",
    "  df = mag.getDataframe('PaperAuthorAffiliationsAttributesAll') \\\n",
    "  .select(\"PaperId\", \"AuthorId\", \"Date\", \"Gender\") \\\n",
    "  .filter((col(\"Date\") >= datetime.date(2019, 1, 1)) & (col(\"Date\") <= datetime.date(2021, 6, 30))) \\\n",
    "  .select(\"PaperId\", \"AuthorId\", \"Date\", \"Gender\") \\\n",
    "  .distinct() \\\n",
    "  .toPandas()\n",
    "\n",
    "  df['Date'] = pd.to_datetime(df['Date']).dt.to_period(\"Y\")\n",
    "\n",
    "  for year in range(2019, 2022):\n",
    "    wdw = df[df.Date == str(year)]\n",
    "    n_documents = len(set(wdw['PaperId']))\n",
    "    n_auhorships = wdw[wdw['Gender'] != -1].shape[0]\n",
    "    n_uniq_authors = len(set(wdw['AuthorId']))\n",
    "\n",
    "    print(year, n_documents, n_auhorships, n_uniq_authors)"
   ]
  },
  {
   "cell_type": "code",
   "execution_count": null,
   "metadata": {
    "colab": {
     "base_uri": "https://localhost:8080/"
    },
    "executionInfo": {
     "elapsed": 952390,
     "status": "ok",
     "timestamp": 1640171982248,
     "user": {
      "displayName": "Sinatra Lab",
      "photoUrl": "https://lh3.googleusercontent.com/a/default-user=s64",
      "userId": "16209430936604316323"
     },
     "user_tz": -60
    },
    "id": "Sq2Cx-xjnowq",
    "outputId": "4c203476-3f3e-4a25-8ea6-49b36ea4006e"
   },
   "outputs": [
    {
     "name": "stdout",
     "output_type": "stream",
     "text": [
      "2014\n",
      "2015\n",
      "2016\n",
      "2017\n",
      "2018\n",
      "2019\n",
      "2020\n",
      "2021\n"
     ]
    }
   ],
   "source": [
    "'''\n",
    "Compute proportion of preprints to other doctypes, NoFilter file\n",
    "'''\n",
    "\n",
    "run = True\n",
    "\n",
    "if run:\n",
    "  \n",
    "  results = []\n",
    "  years = range(2014, 2022)\n",
    "\n",
    "  for year in years:\n",
    "    m, d = (12, 31)\n",
    "    if year ==2021:\n",
    "      m, d = (6, 30)\n",
    "    \n",
    "    df = mag.getDataframe('PaperAuthorAffiliationsAttributesNoFilter') \\\n",
    "    .select(\"PaperId\", \"Date\", \"DocType\") \\\n",
    "    .filter((col(\"Date\") >= datetime.date(year, 1, 1)) & (col(\"Date\") <= datetime.date(year, m, d))) \\\n",
    "    .select(\"PaperId\", \"Date\", \"DocType\") \\\n",
    "    .distinct() \\\n",
    "    .toPandas()\n",
    "    \n",
    "    df['Date'] = pd.to_datetime(df['Date']).dt.to_period(\"M\")\n",
    "    \n",
    "    res = (df[df.DocType=='Repository'].groupby('Date')['PaperId'].nunique() / \\\n",
    "     df[df.DocType!='Repository'].groupby('Date')['PaperId'].nunique()) \\\n",
    "     .reset_index(name='Proportion')\n",
    "    results += res.values.tolist()\n",
    "    print(year)\n",
    "    \n",
    "  dfout = pd.DataFrame(results, columns=['Date', 'Proportion'])    \n",
    "  dfout.to_csv(gpath+f\"RatiopreprintstoNoFilter.csv\", index=False)\n"
   ]
  },
  {
   "cell_type": "code",
   "execution_count": null,
   "metadata": {
    "id": "LguwjnaONQYj"
   },
   "outputs": [],
   "source": [
    "dfout.to_csv(gpath+f\"RatiopreprintstoNoFilter.csv\", index=False)\n"
   ]
  },
  {
   "cell_type": "code",
   "execution_count": null,
   "metadata": {
    "colab": {
     "base_uri": "https://localhost:8080/"
    },
    "executionInfo": {
     "elapsed": 239112,
     "status": "ok",
     "timestamp": 1640172221355,
     "user": {
      "displayName": "Sinatra Lab",
      "photoUrl": "https://lh3.googleusercontent.com/a/default-user=s64",
      "userId": "16209430936604316323"
     },
     "user_tz": -60
    },
    "id": "VnyR7dnMurZ-",
    "outputId": "5b4dd3a6-b74f-42f8-f2b0-f76bb370702c"
   },
   "outputs": [
    {
     "name": "stdout",
     "output_type": "stream",
     "text": [
      "2019 6409642 9749795 12642389\n",
      "2020 7192663 10192716 14183053\n",
      "2021 2675189 5405354 6758598\n"
     ]
    }
   ],
   "source": [
    "'''\n",
    "Compute overall stats for table in productivity panel, NoFilter file\n",
    "'''\n",
    "\n",
    "run = True\n",
    "\n",
    "if run:\n",
    "  df = mag.getDataframe('PaperAuthorAffiliationsAttributesNoFilter') \\\n",
    "  .select(\"PaperId\", \"AuthorId\", \"Date\", \"Gender\") \\\n",
    "  .filter((col(\"Date\") >= datetime.date(2019, 1, 1)) & (col(\"Date\") <= datetime.date(2021, 6, 30))) \\\n",
    "  .select(\"PaperId\", \"AuthorId\", \"Date\", \"Gender\") \\\n",
    "  .distinct() \\\n",
    "  .toPandas()\n",
    "\n",
    "  df['Date'] = pd.to_datetime(df['Date']).dt.to_period(\"Y\")\n",
    "\n",
    "  for year in range(2019, 2022):\n",
    "    wdw = df[df.Date == str(year)]\n",
    "    n_documents = len(set(wdw['PaperId']))\n",
    "    n_auhorships = wdw[wdw['Gender'] != -1].shape[0]\n",
    "    n_uniq_authors = len(set(wdw['AuthorId']))\n",
    "\n",
    "    print(year, n_documents, n_auhorships, n_uniq_authors)"
   ]
  },
  {
   "cell_type": "code",
   "execution_count": 13,
   "metadata": {
    "colab": {
     "base_uri": "https://localhost:8080/"
    },
    "executionInfo": {
     "elapsed": 790654,
     "status": "ok",
     "timestamp": 1641553847045,
     "user": {
      "displayName": "Sinatra Lab",
      "photoUrl": "https://lh3.googleusercontent.com/a/default-user=s64",
      "userId": "16209430936604316323"
     },
     "user_tz": -60
    },
    "id": "XdkrMgOMvdwZ",
    "outputId": "64cbac25-a3b4-48ec-e24c-91da4c5b7c3f"
   },
   "outputs": [
    {
     "name": "stdout",
     "output_type": "stream",
     "text": [
      "biology\n",
      "chemistry\n",
      "computer science\n",
      "engineering\n",
      "environmental science\n",
      "geography\n",
      "geology\n",
      "materials science\n",
      "mathematics\n",
      "physics\n"
     ]
    }
   ],
   "source": [
    "'''\n",
    "Compute proportion of preprints to other doctypes by field, All file (filtered)\n",
    "'''\n",
    "\n",
    "run = True\n",
    "\n",
    "if run:\n",
    "\n",
    "  fos = ['biology',\n",
    "       'chemistry',\n",
    "       'computer science',\n",
    "       'engineering',\n",
    "       'environmental science',\n",
    "       'geography',\n",
    "       'geology',\n",
    "       'materials science',\n",
    "       'mathematics',\n",
    "       'physics']\n",
    "  \n",
    "  results = []\n",
    "\n",
    "  for field in fos:\n",
    "    # for year in years:\n",
    "    #   m, d = (12, 31)\n",
    "    #   if year ==2021:\n",
    "    #     m, d = (6, 30)\n",
    "\n",
    "    df = mag.getDataframe('PaperAuthorAffiliationsAttributesAll') \\\n",
    "    .select(\"PaperId\", \"Date\", \"DocType\", \"NormalizedName\") \\\n",
    "    .filter((col(\"NormalizedName\") == field) & (col(\"Date\") >= datetime.date(2011, 1, 1)) & (col(\"Date\") <= datetime.date(2021, 6, 30)) ) \\\n",
    "    .select(\"PaperId\", \"Date\", \"DocType\", \"NormalizedName\") \\\n",
    "    .distinct() \\\n",
    "    .toPandas()\n",
    "    \n",
    "    df['Date'] = pd.to_datetime(df['Date']).dt.to_period(\"M\")\n",
    "    \n",
    "    res = (df[df.DocType=='Repository'].groupby('Date')['PaperId'].nunique() / \\\n",
    "          df[df.DocType!='Repository'].groupby('Date')['PaperId'].nunique()) \\\n",
    "          .reset_index(name='Proportion')\n",
    "    res['Field'] = field\n",
    "    results += res.values.tolist()\n",
    "    print(field)\n",
    "    \n",
    "  dfout = pd.DataFrame(results, columns=['Date', 'Proportion', 'Field'])    \n",
    "  dfout.to_csv(gpath+f\"DateRatiopreprintstoAllField.csv\", index=False)\n"
   ]
  },
  {
   "cell_type": "code",
   "execution_count": 14,
   "metadata": {
    "colab": {
     "base_uri": "https://localhost:8080/"
    },
    "executionInfo": {
     "elapsed": 1337365,
     "status": "ok",
     "timestamp": 1641555184403,
     "user": {
      "displayName": "Sinatra Lab",
      "photoUrl": "https://lh3.googleusercontent.com/a/default-user=s64",
      "userId": "16209430936604316323"
     },
     "user_tz": -60
    },
    "id": "BenwQrClLBRe",
    "outputId": "748d464c-81d1-4e40-97e7-ffa5b0feddbb"
   },
   "outputs": [
    {
     "name": "stdout",
     "output_type": "stream",
     "text": [
      "biology\n",
      "chemistry\n",
      "computer science\n",
      "engineering\n",
      "environmental science\n",
      "geography\n",
      "geology\n",
      "materials science\n",
      "mathematics\n",
      "physics\n"
     ]
    }
   ],
   "source": [
    "'''\n",
    "Compute proportion of preprints to other doctypes by field, NoFilter file\n",
    "'''\n",
    "\n",
    "run = True\n",
    "\n",
    "if run:\n",
    "\n",
    "  fos = ['biology',\n",
    "       'chemistry',\n",
    "       'computer science',\n",
    "       'engineering',\n",
    "       'environmental science',\n",
    "       'geography',\n",
    "       'geology',\n",
    "       'materials science',\n",
    "       'mathematics',\n",
    "       'physics']\n",
    "  \n",
    "  results = []\n",
    "\n",
    "  for field in fos:\n",
    "    # for year in years:\n",
    "    #   m, d = (12, 31)\n",
    "    #   if year ==2021:\n",
    "    #     m, d = (6, 30)\n",
    "\n",
    "    df = mag.getDataframe('PaperAuthorAffiliationsAttributesNoFilter') \\\n",
    "    .select(\"PaperId\", \"Date\", \"DocType\", \"NormalizedName\") \\\n",
    "    .filter((col(\"NormalizedName\") == field) & (col(\"Date\") >= datetime.date(2011, 1, 1)) & (col(\"Date\") <= datetime.date(2021, 6, 30)) ) \\\n",
    "    .select(\"PaperId\", \"Date\", \"DocType\", \"NormalizedName\") \\\n",
    "    .distinct() \\\n",
    "    .toPandas()\n",
    "    \n",
    "    df['Date'] = pd.to_datetime(df['Date']).dt.to_period(\"M\")\n",
    "    \n",
    "    res = (df[df.DocType=='Repository'].groupby('Date')['PaperId'].nunique() / \\\n",
    "          df[df.DocType!='Repository'].groupby('Date')['PaperId'].nunique()) \\\n",
    "          .reset_index(name='Proportion')\n",
    "    res['Field'] = field\n",
    "    results += res.values.tolist()\n",
    "    print(field)\n",
    "    \n",
    "  dfout = pd.DataFrame(results, columns=['Date', 'Proportion', 'Field'])    \n",
    "  dfout.to_csv(gpath+f\"DateRatiopreprintstoNoFilterField.csv\", index=False)\n"
   ]
  }
 ],
 "metadata": {
  "colab": {
   "authorship_tag": "ABX9TyPH/kSRwgNEF/UUZRrq0Psi",
   "collapsed_sections": [],
   "machine_shape": "hm",
   "name": "compute_stats_panel.ipynb",
   "provenance": []
  },
  "kernelspec": {
   "display_name": "Python 3",
   "language": "python",
   "name": "python3"
  },
  "language_info": {
   "codemirror_mode": {
    "name": "ipython",
    "version": 3
   },
   "file_extension": ".py",
   "mimetype": "text/x-python",
   "name": "python",
   "nbconvert_exporter": "python",
   "pygments_lexer": "ipython3",
   "version": "3.8.8"
  }
 },
 "nbformat": 4,
 "nbformat_minor": 1
}
