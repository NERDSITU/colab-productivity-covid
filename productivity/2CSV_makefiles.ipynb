{
 "cells": [
  {
   "cell_type": "code",
   "execution_count": 1,
   "metadata": {
    "colab": {
     "base_uri": "https://localhost:8080/"
    },
    "executionInfo": {
     "elapsed": 10,
     "status": "ok",
     "timestamp": 1640107799368,
     "user": {
      "displayName": "Sinatra Lab",
      "photoUrl": "https://lh3.googleusercontent.com/a/default-user=s64",
      "userId": "16209430936604316323"
     },
     "user_tz": -60
    },
    "id": "LiVloU2UbH-4",
    "outputId": "d4c6e773-3997-426e-d86b-045de8dd6c1a"
   },
   "outputs": [
    {
     "name": "stdout",
     "output_type": "stream",
     "text": [
      "Your runtime has 54.8 gigabytes of available RAM\n",
      "\n"
     ]
    }
   ],
   "source": [
    "# all of the usual spark setup.\n",
    "from psutil import virtual_memory\n",
    "ram_gb = virtual_memory().total / 1e9\n",
    "print('Your runtime has {:.1f} gigabytes of available RAM\\n'.format(ram_gb))"
   ]
  },
  {
   "cell_type": "code",
   "execution_count": 2,
   "metadata": {
    "executionInfo": {
     "elapsed": 20665,
     "status": "ok",
     "timestamp": 1640107820026,
     "user": {
      "displayName": "Sinatra Lab",
      "photoUrl": "https://lh3.googleusercontent.com/a/default-user=s64",
      "userId": "16209430936604316323"
     },
     "user_tz": -60
    },
    "id": "lwSfwGf5K-Ui"
   },
   "outputs": [],
   "source": [
    "# basic setup\n",
    "%%capture\n",
    "from google.colab import drive\n",
    "drive.mount('/content/gdrive')\n",
    "!apt-get update\n",
    "!apt-get install openjdk-8-jdk-headless -qq > /dev/null\n",
    "!wget -q https://dlcdn.apache.org/spark/spark-3.1.2/spark-3.1.2-bin-hadoop3.2.tgz\n",
    "!tar -xvzf spark-3.1.2-bin-hadoop3.2.tgz\n",
    "! pip install -q findspark\n",
    "! pip install pyspark"
   ]
  },
  {
   "cell_type": "code",
   "execution_count": 3,
   "metadata": {
    "executionInfo": {
     "elapsed": 6,
     "status": "ok",
     "timestamp": 1640107820026,
     "user": {
      "displayName": "Sinatra Lab",
      "photoUrl": "https://lh3.googleusercontent.com/a/default-user=s64",
      "userId": "16209430936604316323"
     },
     "user_tz": -60
    },
    "id": "AhkZIJzmK-dG"
   },
   "outputs": [],
   "source": [
    "# new try \n",
    "import os\n",
    "os.environ[\"SPARK_HOME\"] = \"/content/spark-3.1.2-bin-hadoop3.2\""
   ]
  },
  {
   "cell_type": "code",
   "execution_count": 4,
   "metadata": {
    "executionInfo": {
     "elapsed": 6234,
     "status": "ok",
     "timestamp": 1640107826255,
     "user": {
      "displayName": "Sinatra Lab",
      "photoUrl": "https://lh3.googleusercontent.com/a/default-user=s64",
      "userId": "16209430936604316323"
     },
     "user_tz": -60
    },
    "id": "JcTNOxsYK-kY"
   },
   "outputs": [],
   "source": [
    "# import stuff\n",
    "import findspark\n",
    "findspark.init()\n",
    "import sys\n",
    "import pandas as pd\n",
    "sys.path.insert(0,'/content/gdrive/MyDrive/***') # path to MAGspark1.py and MAG.py files\n",
    "from pyspark.sql import SparkSession\n",
    "from pyspark.sql.types import *\n",
    "from MAG import MicrosoftAcademicGraph\n",
    "from MAGspark1 import get_mag_with_node_connection # Lasse works, but we should be able to do this faster.\n",
    "import datetime, time \n",
    "mag, spark = get_mag_with_node_connection()"
   ]
  },
  {
   "cell_type": "code",
   "execution_count": 5,
   "metadata": {
    "executionInfo": {
     "elapsed": 22,
     "status": "ok",
     "timestamp": 1640107826256,
     "user": {
      "displayName": "Sinatra Lab",
      "photoUrl": "https://lh3.googleusercontent.com/a/default-user=s64",
      "userId": "16209430936604316323"
     },
     "user_tz": -60
    },
    "id": "EqKTz52FK-rG"
   },
   "outputs": [],
   "source": [
    "spark.conf.set(\"spark.sql.execution.arrow.pyspark.enabled\", \"true\")\n",
    "from pyspark.sql.functions import col"
   ]
  },
  {
   "cell_type": "code",
   "execution_count": 6,
   "metadata": {
    "executionInfo": {
     "elapsed": 21,
     "status": "ok",
     "timestamp": 1640107826257,
     "user": {
      "displayName": "Sinatra Lab",
      "photoUrl": "https://lh3.googleusercontent.com/a/default-user=s64",
      "userId": "16209430936604316323"
     },
     "user_tz": -60
    },
    "id": "nQreoFRZSx1k"
   },
   "outputs": [],
   "source": [
    "gpath = \"path to data\""
   ]
  },
  {
   "cell_type": "code",
   "execution_count": 7,
   "metadata": {
    "executionInfo": {
     "elapsed": 20,
     "status": "ok",
     "timestamp": 1640107826257,
     "user": {
      "displayName": "Sinatra Lab",
      "photoUrl": "https://lh3.googleusercontent.com/a/default-user=s64",
      "userId": "16209430936604316323"
     },
     "user_tz": -60
    },
    "id": "XImm5YgwMwA3"
   },
   "outputs": [],
   "source": [
    "'''\n",
    "Make files for preprints, each year has 1 file\n",
    "'''\n",
    "\n",
    "run = False\n",
    "\n",
    "if run:\n",
    "  years = range(2010, 2022)\n",
    "\n",
    "  for year in years:\n",
    "    if year == 2021:  \n",
    "      mag.getDataframe('PaperAuthorAffiliationsAttributesRepo') \\\n",
    "      .select(\"PaperId\", \"AuthorId\", \"Date\", \"Gender\", \"ScientificAge\",\"CountryCode\") \\\n",
    "      .filter((col(\"Date\") >= datetime.date(year, 1, 1)) & (col(\"Date\") < datetime.date(year, 7, 1))) \\\n",
    "      .select(\"PaperId\", \"AuthorId\", \"Date\", \"Gender\", \"ScientificAge\",\"CountryCode\") \\\n",
    "      .distinct() \\\n",
    "      .toPandas() \\\n",
    "      .to_csv(gpath+f\"preprints_{year}.csv\", index=False)\n",
    "    \n",
    "    else:\n",
    "      mag.getDataframe('PaperAuthorAffiliationsAttributesRepo') \\\n",
    "      .select(\"PaperId\", \"AuthorId\", \"Date\", \"Gender\", \"ScientificAge\",\"CountryCode\") \\\n",
    "      .filter((col(\"Date\") >= datetime.date(year, 1, 1)) & (col(\"Date\") <= datetime.date(year, 12, 31))) \\\n",
    "      .select(\"PaperId\", \"AuthorId\", \"Date\", \"Gender\", \"ScientificAge\",\"CountryCode\") \\\n",
    "      .distinct() \\\n",
    "      .toPandas() \\\n",
    "      .to_csv(gpath+f\"preprints_{year}.csv\", index=False)"
   ]
  },
  {
   "cell_type": "code",
   "execution_count": 8,
   "metadata": {
    "executionInfo": {
     "elapsed": 19,
     "status": "ok",
     "timestamp": 1640107826257,
     "user": {
      "displayName": "Sinatra Lab",
      "photoUrl": "https://lh3.googleusercontent.com/a/default-user=s64",
      "userId": "16209430936604316323"
     },
     "user_tz": -60
    },
    "id": "cbcBNfGuWSPB"
   },
   "outputs": [],
   "source": [
    "'''\n",
    "Make files for all doctypes, each year has 1 file\n",
    "'''\n",
    "\n",
    "run = False\n",
    "\n",
    "if run:\n",
    "  years = range(2010, 2022)\n",
    "\n",
    "  for year in years:\n",
    "    if year == 2021:  \n",
    "      mag.getDataframe('PaperAuthorAffiliationsAttributesAll') \\\n",
    "      .select(\"PaperId\", \"AuthorId\", \"Date\", \"Gender\", \"ScientificAge\",\"CountryCode\") \\\n",
    "      .filter((col(\"Date\") >= datetime.date(year, 1, 1)) & (col(\"Date\") < datetime.date(year, 7, 1))) \\\n",
    "      .select(\"PaperId\", \"AuthorId\", \"Date\", \"Gender\", \"ScientificAge\",\"CountryCode\") \\\n",
    "      .distinct() \\\n",
    "      .toPandas() \\\n",
    "      .to_csv(gpath+f\"PaperAuthorDateGenderSciAgeAll_{year}.csv\", index=False)\n",
    "    \n",
    "    else:\n",
    "      mag.getDataframe('PaperAuthorAffiliationsAttributesAll') \\\n",
    "      .select(\"PaperId\", \"AuthorId\", \"Date\", \"Gender\", \"ScientificAge\",\"CountryCode\") \\\n",
    "      .filter((col(\"Date\") >= datetime.date(year, 1, 1)) & (col(\"Date\") <= datetime.date(year, 12, 31))) \\\n",
    "      .select(\"PaperId\", \"AuthorId\", \"Date\", \"Gender\", \"ScientificAge\",\"CountryCode\") \\\n",
    "      .distinct() \\\n",
    "      .toPandas() \\\n",
    "      .to_csv(gpath+f\"PaperAuthorDateGenderSciAgeAll_{year}.csv\", index=False)"
   ]
  },
  {
   "cell_type": "code",
   "execution_count": 9,
   "metadata": {
    "executionInfo": {
     "elapsed": 2729853,
     "status": "ok",
     "timestamp": 1640110556091,
     "user": {
      "displayName": "Sinatra Lab",
      "photoUrl": "https://lh3.googleusercontent.com/a/default-user=s64",
      "userId": "16209430936604316323"
     },
     "user_tz": -60
    },
    "id": "DvYMYturJuhA"
   },
   "outputs": [],
   "source": [
    "'''\n",
    "Make files for all doctypes not filtered (keep authors <25 & rec_and_cite),\n",
    "each year has 1 file\n",
    "'''\n",
    "\n",
    "run = True\n",
    "\n",
    "if run:\n",
    "  years = range(2010, 2022)\n",
    "  for year in years:\n",
    "    m,d = 12, 31\n",
    "    if year == 2021:\n",
    "      m,d = 6, 30\n",
    "    mag.getDataframe('PaperAuthorAffiliationsAttributesNoFilter') \\\n",
    "    .select(\"PaperId\", \"AuthorId\", \"Date\", \"Gender\", \"ScientificAge\",\"CountryCode\") \\\n",
    "    .filter((col(\"Date\") >= datetime.date(year, 1, 1)) & (col(\"Date\") <= datetime.date(year, m, d))) \\\n",
    "    .select(\"PaperId\", \"AuthorId\", \"Date\", \"Gender\", \"ScientificAge\",\"CountryCode\") \\\n",
    "    .distinct() \\\n",
    "    .toPandas() \\\n",
    "    .to_csv(gpath+f\"PaperAuthorDateGenderSciAgeNoFilter_{year}.csv\", index=False)"
   ]
  }
 ],
 "metadata": {
  "colab": {
   "authorship_tag": "ABX9TyOfdAzJInr43DcaXUIehAa6",
   "collapsed_sections": [],
   "machine_shape": "hm",
   "name": "2CSV_newfiles.ipynb",
   "provenance": []
  },
  "kernelspec": {
   "display_name": "Python 3",
   "language": "python",
   "name": "python3"
  },
  "language_info": {
   "codemirror_mode": {
    "name": "ipython",
    "version": 3
   },
   "file_extension": ".py",
   "mimetype": "text/x-python",
   "name": "python",
   "nbconvert_exporter": "python",
   "pygments_lexer": "ipython3",
   "version": "3.8.8"
  }
 },
 "nbformat": 4,
 "nbformat_minor": 1
}
