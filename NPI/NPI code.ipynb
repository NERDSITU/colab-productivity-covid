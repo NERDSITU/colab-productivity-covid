{
 "cells": [
  {
   "cell_type": "code",
   "execution_count": 1,
   "id": "a3eefdc2",
   "metadata": {},
   "outputs": [],
   "source": [
    "import pandas as pd\n",
    "import numpy as np\n",
    "import csv\n",
    "import pickle\n",
    "from collections import Counter\n",
    "import matplotlib.pyplot as plt\n",
    "import powerlaw,math\n",
    "import matplotlib"
   ]
  },
  {
   "cell_type": "code",
   "execution_count": 2,
   "id": "96b57f20",
   "metadata": {},
   "outputs": [],
   "source": [
    "import seaborn as sns"
   ]
  },
  {
   "cell_type": "code",
   "execution_count": 3,
   "id": "11ba95c1",
   "metadata": {},
   "outputs": [],
   "source": [
    "closure_opening = pd.read_csv('./Closure and re-opening NPI among countries.csv') "
   ]
  },
  {
   "cell_type": "code",
   "execution_count": 4,
   "id": "ff07cf13",
   "metadata": {},
   "outputs": [],
   "source": [
    "closure_opening = np.array(closure_opening)"
   ]
  },
  {
   "cell_type": "code",
   "execution_count": 5,
   "id": "81cec1e7",
   "metadata": {},
   "outputs": [],
   "source": [
    "countries = closure_opening[:,1]\n",
    "region = closure_opening[:,4]\n",
    "time_intervention = closure_opening[:,5]\n",
    "social_return = closure_opening[:,8]\n",
    "set_countries = list(set(countries))\n",
    "set_countries = [k for k in set_countries if type(k)!=float]"
   ]
  },
  {
   "cell_type": "code",
   "execution_count": 6,
   "id": "4df2aeed",
   "metadata": {},
   "outputs": [],
   "source": [
    "#By row\n",
    "country_region_time_intervention = {}\n",
    "for k in set_countries:\n",
    "    time_tp = time_intervention[countries==k]        #length\n",
    "    region_tp = region[countries==k]                 #region and country\n",
    "    social_return_tp = social_return[countries==k]   #intervention\n",
    "    region_tp_set = list(set(region_tp))             #regions in the same country\n",
    "    #By regions\n",
    "    region_set = {}\n",
    "    if len(region_tp_set)>1:  #multipul regions\n",
    "        for k1 in region_tp_set:\n",
    "            time_tp1 = time_tp[region_tp==k1]                     #intervention in a region\n",
    "    #         print(timp_tp1)\n",
    "            social_return_tp1 = social_return_tp[region_tp==k1]   #intervention in a region\n",
    "            region_set[k1] = [(time_tp1[i],social_return_tp1[i]) for i in range(len(time_tp1))]\n",
    "    else:\n",
    "        tp_i = []\n",
    "        for i in range(len(social_return_tp)):\n",
    "            tp_i.append((time_tp[i],social_return_tp[i]))\n",
    "        region_set[region_tp_set[0]] = tp_i \n",
    "    country_region_time_intervention[k] = region_set"
   ]
  },
  {
   "cell_type": "code",
   "execution_count": 7,
   "id": "419204ca",
   "metadata": {},
   "outputs": [],
   "source": [
    "chs = ['Re-opening of kindergartens','Re-opening of primary schools','Closure of primary and secondary schools',\n",
    "'Re-opening of primary schools and child care','Complete closure of all educational institutions',\n",
    "'Closure of kindergartens','Re-opening of child care centers',\n",
    " 'Re-opening of secondary schools','Re-opening of primary and secondary schools']"
   ]
  },
  {
   "cell_type": "code",
   "execution_count": 8,
   "id": "ce271fa2",
   "metadata": {},
   "outputs": [],
   "source": [
    "#new \n",
    "certain_info = {}\n",
    "for k in country_region_time_intervention:\n",
    "    tp = country_region_time_intervention[k]\n",
    "    tp_dict = {}\n",
    "    for k1 in tp:\n",
    "        tp1 = []\n",
    "        for k2 in tp[k1]:   #situation in a region\n",
    "            if k2[1] in chs:\n",
    "                tp1.append(k2)\n",
    "        tp_dict[k1] = tp1\n",
    "    certain_info[k] = tp_dict"
   ]
  },
  {
   "cell_type": "code",
   "execution_count": 9,
   "id": "594b54b9",
   "metadata": {},
   "outputs": [],
   "source": [
    "country_region_time_intervention_sorted = {}\n",
    "for k in certain_info:\n",
    "    tp = certain_info[k]\n",
    "    tp_dict = {}\n",
    "    for k1 in tp:\n",
    "        tp1 = tp[k1]\n",
    "        tp1 = sorted(tp1, key=lambda item: int(item[0].split('/')[0])*30+int(item[0].split('/')[1]))\n",
    "        tp_dict[k1] = tp1\n",
    "   \n",
    "    country_region_time_intervention_sorted[k] = tp_dict"
   ]
  },
  {
   "cell_type": "code",
   "execution_count": 10,
   "id": "2e49f159",
   "metadata": {},
   "outputs": [],
   "source": [
    "country_region_01 = {}    #thansfering into 1 and 0\n",
    "for k in country_region_time_intervention_sorted: \n",
    "    tp_dict = {}\n",
    "    tp = country_region_time_intervention_sorted[k]  #all regions\n",
    "    for k1 in tp:    #for every regions\n",
    "        tp1 = tp[k1] #interventions\n",
    "        #unit of one day\n",
    "        \n",
    "        temp_day = []\n",
    "        for i in range(360):\n",
    "            temp_day.append('')\n",
    "            \n",
    "        for k2 in tp1:    \n",
    "            tp_0 = k2[0]  \n",
    "            tp_1 = k2[1].split(' ')  \n",
    "            tp0_split = tp_0.split('/')\n",
    "            if int(tp0_split[1])<=30:\n",
    "                tp_month_day  = (int(tp0_split[0])-1)*30 + int(tp0_split[1])\n",
    "            else:\n",
    "                tp_month_day  = (int(tp0_split[0])-1)*30 + 30\n",
    "                \n",
    "            if 'Re-opening' in tp_1:\n",
    "                temp_day[tp_month_day] = '1'   #Re-opening\n",
    "            else:\n",
    "                temp_day[tp_month_day] = '0'   #Closure\n",
    "        tp_dict[k1] = temp_day\n",
    "    \n",
    "    country_region_01[k] = tp_dict"
   ]
  },
  {
   "cell_type": "markdown",
   "id": "4b6a9a09",
   "metadata": {},
   "source": [
    "##### 地区 Union 的方式"
   ]
  },
  {
   "cell_type": "code",
   "execution_count": 11,
   "id": "2d8f2149",
   "metadata": {},
   "outputs": [],
   "source": [
    "country_region_union_pre = {}\n",
    "for item in country_region_01:\n",
    "    case = country_region_01[item]\n",
    "    mry_tp = {}\n",
    "    for k in case:            \n",
    "        region_tp = case[k]   \n",
    "        \n",
    "        if '0' in region_tp and '1' in region_tp:\n",
    "      \n",
    "            st = 0\n",
    "            mry = []\n",
    "            key = 0\n",
    "            while True:\n",
    "                tp_col = region_tp[st]\n",
    "                #first closure\n",
    "                if key==0:\n",
    "                    if tp_col == '0':\n",
    "                        mry.append((st,'0'))    #记录下第一个closure\n",
    "                        st+=1\n",
    "                        if st>=360:\n",
    "                            break\n",
    "                        key = 1                #用来判断找closure 还是 re-opening\n",
    "                        continue\n",
    "                    else:\n",
    "                        st+=1\n",
    "                        if st>=360:\n",
    "                            break\n",
    "                        continue\n",
    "                else:\n",
    "                    if tp_col == '1':\n",
    "                        mry.append((st,'1'))    #记录下第一个re-opening\n",
    "                        st+=1\n",
    "                        key = 0\n",
    "                        if st>=360:\n",
    "                            break\n",
    "                        continue\n",
    "                    else:\n",
    "                        st+=1\n",
    "                        if st>=360:\n",
    "                            break\n",
    "                        continue\n",
    "                        \n",
    "            tp_l = len(mry)/2\n",
    "            if tp_l>=1:\n",
    "                tp_r = np.array(list(range(int(tp_l))))*2\n",
    "                mry1 = []\n",
    "                for i in tp_r:\n",
    "                    m0 = mry[i][0]\n",
    "                    m1 = mry[i+1][0]+1\n",
    "                    for i1 in range(m0,m1):\n",
    "                        mry1.append(i1)\n",
    "\n",
    "\n",
    "\n",
    "                mry_tp[k] = (mry,mry1)\n",
    "    if len(mry_tp)>0:\n",
    "        country_region_union_pre[item] = mry_tp"
   ]
  },
  {
   "cell_type": "code",
   "execution_count": 28,
   "id": "25714fc4",
   "metadata": {},
   "outputs": [
    {
     "name": "stdout",
     "output_type": "stream",
     "text": [
      "regins without re-oepning Info ['Iceland', 'Bosnia and Herzegovina', 'Malaysia', 'Japan', 'Egypt', 'United States of America', 'Hungary', 'Belgium', 'Serbia', 'Kuwait', 'Albania', 'Canada', 'Syria', 'South Korea', 'Thailand', 'New Zealand', 'Kosovo', 'Czech Republic', 'Croatia', 'Indonesia', 'North Macedonia', 'Slovenia', 'Republic of Ireland', 'Sweden', 'Honduras', 'Romania', 'Taiwan', 'Mexico', 'Lithuania', 'Brazil', 'El Salvador', 'Kazakhstan']\n"
     ]
    },
    {
     "data": {
      "text/plain": [
       "array(['Iceland', 'Bosnia and Herzegovina', 'Malaysia', 'Japan', 'Egypt',\n",
       "       'United States of America', 'Hungary', 'Belgium', 'Serbia',\n",
       "       'Kuwait', 'Albania', 'Canada', 'Syria', 'South Korea', 'Thailand',\n",
       "       'New Zealand', 'Kosovo', 'Czech Republic', 'Croatia', 'Indonesia',\n",
       "       'North Macedonia', 'Slovenia', 'Republic of Ireland', 'Sweden',\n",
       "       'Honduras', 'Romania', 'Taiwan', 'Mexico', 'Lithuania', 'Brazil',\n",
       "       'El Salvador', 'Kazakhstan'], dtype='<U24')"
      ]
     },
     "execution_count": 28,
     "metadata": {},
     "output_type": "execute_result"
    }
   ],
   "source": [
    "print('regins without re-oepning Info',[k for k in set_countries if k not in country_region_union_pre])\n",
    "tp = np.array([k for k in set_countries if k not in country_region_union_pre])\n",
    "tp"
   ]
  },
  {
   "cell_type": "code",
   "execution_count": 13,
   "id": "c530961e",
   "metadata": {},
   "outputs": [],
   "source": [
    "info_without_reopening = {}\n",
    "re_in_region = []\n",
    "for k in tp:\n",
    "    temp0 = country_region_01[k]\n",
    "    rt = []\n",
    "    for k0 in temp0:\n",
    "        temp1 = temp0[k0]\n",
    "        if '0' in temp1:\n",
    "            tp1 = temp1.index('0')\n",
    "            rt.append(tp1)\n",
    "        else:\n",
    "            re_in_region.append(k)\n",
    "    if len(rt)>0:\n",
    "        info_without_reopening[k] = min(rt)               "
   ]
  },
  {
   "cell_type": "code",
   "execution_count": 29,
   "id": "2b84234d",
   "metadata": {},
   "outputs": [],
   "source": [
    "# Union \n",
    "country_region_union = {}\n",
    "for k in country_region_union_pre:\n",
    "    tp0 = country_region_union_pre[k]\n",
    "    content = []\n",
    "    for k0 in tp0:\n",
    "        ct = tp0[k0][1]\n",
    "        content = list(set(content).union(set(ct)))\n",
    "    country_region_union[k] = content"
   ]
  },
  {
   "cell_type": "code",
   "execution_count": 15,
   "id": "b8b00fbc",
   "metadata": {},
   "outputs": [],
   "source": [
    "for k in info_without_reopening:\n",
    "    thrd = info_without_reopening[k]\n",
    "    tp0 = []\n",
    "    for i in range(thrd,360):\n",
    "        tp0.append(i)\n",
    "    country_region_union[k] = tp0"
   ]
  },
  {
   "cell_type": "markdown",
   "id": "76ed447a",
   "metadata": {},
   "source": [
    "##### output of closure"
   ]
  },
  {
   "cell_type": "code",
   "execution_count": 16,
   "id": "63649843",
   "metadata": {},
   "outputs": [],
   "source": [
    "country_closure = []\n",
    "for k in country_region_union:\n",
    "    country_closure.append((k,len(country_region_union[k])))\n",
    "tp_pd = pd.DataFrame(country_closure)\n",
    "# tp_pd.to_csv('country_closure_OR_OPERATION1124.csv',index=0,header=['country','duration'])"
   ]
  },
  {
   "cell_type": "code",
   "execution_count": 30,
   "id": "83e4823c",
   "metadata": {},
   "outputs": [],
   "source": [
    "#second normalization\n",
    "Normalized_country_region_union = {}\n",
    "for k in country_region_union:\n",
    "    tp = country_region_union[k]\n",
    "    temp = []\n",
    "    for i in range(360):\n",
    "        temp.append(1)\n",
    "        \n",
    "    for k2 in tp:\n",
    "        temp[k2]=0\n",
    "        \n",
    "    Normalized_country_region_union[k] = temp"
   ]
  },
  {
   "cell_type": "code",
   "execution_count": 18,
   "id": "123db4c0",
   "metadata": {},
   "outputs": [],
   "source": [
    "#manually check sweden\n",
    "temp = []\n",
    "for i in range(98):\n",
    "    temp.append(1)\n",
    "for i in range(98,195):\n",
    "    temp.append(0)\n",
    "for i in range(195,360):\n",
    "    temp.append(1)\n",
    "    \n",
    "Normalized_country_region_union['Sweden'] = temp  "
   ]
  },
  {
   "cell_type": "code",
   "execution_count": 19,
   "id": "436bac06",
   "metadata": {},
   "outputs": [],
   "source": [
    "Normalized_Data_closure = []\n",
    "for k in Normalized_country_region_union:\n",
    "    temp = [k]\n",
    "    tp = Normalized_country_region_union[k]\n",
    "    temp.extend(tp)\n",
    "    Normalized_Data_closure.append(temp)"
   ]
  },
  {
   "cell_type": "code",
   "execution_count": 20,
   "id": "6e40f6b5",
   "metadata": {},
   "outputs": [],
   "source": [
    "#Alphanumeric order\n",
    "Normalized_Data_closure_alp = np.array(sorted(Normalized_Data_closure,key = lambda item:item[0][0],reverse=1))"
   ]
  },
  {
   "cell_type": "code",
   "execution_count": 21,
   "id": "1cd034e0",
   "metadata": {},
   "outputs": [],
   "source": [
    "data_closure_alp = Normalized_Data_closure_alp[:,1:]\n",
    "Y_closure_alp = [k[0] for k in Normalized_Data_closure_alp]"
   ]
  },
  {
   "cell_type": "code",
   "execution_count": 22,
   "id": "5c19e963",
   "metadata": {},
   "outputs": [],
   "source": [
    "Y_closure_alp[1] = 'USA'\n",
    "Y_closure_alp[-5] = 'Bosnia'"
   ]
  },
  {
   "cell_type": "code",
   "execution_count": 23,
   "id": "17831b9b",
   "metadata": {},
   "outputs": [
    {
     "data": {
      "text/plain": [
       "56"
      ]
     },
     "execution_count": 23,
     "metadata": {},
     "output_type": "execute_result"
    }
   ],
   "source": [
    "len(Y_closure_alp)"
   ]
  },
  {
   "cell_type": "code",
   "execution_count": 24,
   "id": "5a04ceae",
   "metadata": {},
   "outputs": [],
   "source": [
    "y_ticks = []\n",
    "yy = 0.5\n",
    "for k in range(len(Y_closure_alp)):\n",
    "    y_ticks.append(yy)\n",
    "    yy+=1"
   ]
  },
  {
   "cell_type": "code",
   "execution_count": 25,
   "id": "8721c264",
   "metadata": {},
   "outputs": [],
   "source": [
    "Data_closure_alp = np.zeros(shape=(len(Y_closure_alp),360))\n",
    "for i in range(len(Y_closure_alp)):\n",
    "    for j in range(360):\n",
    "        Data_closure_alp[i,j] = int(data_closure_alp[i,j])"
   ]
  },
  {
   "cell_type": "code",
   "execution_count": 26,
   "id": "02958d19",
   "metadata": {
    "scrolled": false
   },
   "outputs": [],
   "source": [
    "col = []\n",
    "for i in range(12):\n",
    "    col.append((i+1)*30-15)\n",
    "\n",
    "X_ticks = ['Jan','Feb','Mar','Apr','May','Jun','Jul','Aug','Sep','Oct','Nov','Dec']\n",
    "    \n",
    "Data1 = []\n",
    "for i in range(len(Y_closure_alp)):\n",
    "    tp = []\n",
    "    for j in range(12):\n",
    "        tp.append(0)\n",
    "    Data1.append(tp)\n",
    "Data1 = np.array(Data1)\n",
    "# Data1"
   ]
  },
  {
   "cell_type": "code",
   "execution_count": 34,
   "id": "136e9f3e",
   "metadata": {},
   "outputs": [],
   "source": [
    "font1 = {'family': 'DejaVu Sans',\n",
    "         'weight': 'bold',\n",
    "         'style':'normal',\n",
    "         'size': 15,\n",
    "         }\n",
    "Data = Data_closure_alp\n",
    "Y_ticks = Y_closure_alp\n",
    "fig, ax0 = plt.subplots(figsize=[14,20])\n",
    "my_cmap = matplotlib.colors.ListedColormap(['orangered','skyblue'])\n",
    "c = ax0.pcolor(Data,cmap=my_cmap,alpha = 0.6,edgecolors=None)\n",
    "c = plt.xticks(ticks=col,labels=X_ticks)\n",
    "c = plt.yticks(ticks=y_ticks,labels=Y_ticks,rotation=15)\n",
    "ax0.xaxis.set_ticks_position('bottom')\n",
    "for k in range(len(Y_closure_alp)):\n",
    "    ax0.get_yticklabels()[k].set_fontweight(\"bold\")\n",
    "for k in range(12):\n",
    "    ax0.get_xticklabels()[k].set_fontweight(\"bold\")\n",
    "\n",
    "ax1 = ax0.twiny() # the reason why it works\n",
    "# ax2.set_ylabel('survival rate',font1)\n",
    "ax1.pcolor(Data1,cmap=my_cmap,alpha = 0.1,edgecolors='k')\n",
    "ax1.set_xticks([])\n",
    "ax1.spines['top'].set_visible(False)\n",
    "\n",
    "plt.bar([2],height=0,label='Closure Kingdergarten/Primary And Secondary School etc.',color='orangered',alpha=0.6)\n",
    "plt.bar([2],height=0,label='Re-opening Kingdergarten/Primary And Secondary School etc.',color='skyblue',alpha=0.6)\n",
    "legend_properties = {'weight':'bold','size':9.7}\n",
    "plt.legend(loc=(-0.13,1.512), bbox_to_anchor=(0.1, 0.1, 6/10, 3/5), borderaxespad=0,prop = legend_properties, edgecolor='white',ncol=2)"
   ]
  },
  {
   "cell_type": "markdown",
   "id": "18e9d236",
   "metadata": {},
   "source": [
    "##### main figure 3"
   ]
  },
  {
   "cell_type": "code",
   "execution_count": 40,
   "id": "6129499a",
   "metadata": {},
   "outputs": [],
   "source": [
    "import country_converter as coco\n",
    "import latex"
   ]
  },
  {
   "cell_type": "code",
   "execution_count": 41,
   "id": "171ed68c",
   "metadata": {},
   "outputs": [],
   "source": [
    "country_duration = pd.read_csv('country_closure_OR_OPERATION1124.csv')"
   ]
  },
  {
   "cell_type": "code",
   "execution_count": 42,
   "id": "788a6e52",
   "metadata": {},
   "outputs": [],
   "source": [
    "NewAuthors = pd.read_csv('country/PeriodCountryNewAuthorsPreprints.csv')\n",
    "SysProd = pd.read_csv('country/PeriodCountrySysProdPreprints.csv')\n",
    "IndProd = pd.read_csv('country/PeriodCountryIndProdPreprints.csv')\n",
    "pub2020 = pd.read_csv('country/PaperAuthorDateGenderSciAgeAll_2020.csv')"
   ]
  },
  {
   "cell_type": "code",
   "execution_count": 43,
   "id": "6e863bd2",
   "metadata": {},
   "outputs": [],
   "source": [
    "pub = pub2020[['PaperId','CountryCode']].drop_duplicates()"
   ]
  },
  {
   "cell_type": "code",
   "execution_count": 44,
   "id": "8e6edbcd",
   "metadata": {},
   "outputs": [],
   "source": [
    "pub_CT = dict(Counter(pub.CountryCode))"
   ]
  },
  {
   "cell_type": "code",
   "execution_count": 45,
   "id": "a7b34221",
   "metadata": {},
   "outputs": [],
   "source": [
    "target_countries = set([NewAuthors.Country[k] for k in range(len(NewAuthors.New_Authors)) if NewAuthors.New_Authors[k]>150])"
   ]
  },
  {
   "cell_type": "code",
   "execution_count": 46,
   "id": "c0a9d6da",
   "metadata": {},
   "outputs": [
    {
     "data": {
      "text/plain": [
       "36"
      ]
     },
     "execution_count": 46,
     "metadata": {},
     "output_type": "execute_result"
    }
   ],
   "source": [
    "target_countries = list(target_countries)\n",
    "len(target_countries)"
   ]
  },
  {
   "cell_type": "code",
   "execution_count": 48,
   "id": "99815817",
   "metadata": {},
   "outputs": [],
   "source": [
    "country_duration['code'] = coco.convert(names = list(country_duration.country.unique()), to='ISO2', not_found=None)"
   ]
  },
  {
   "cell_type": "code",
   "execution_count": 49,
   "id": "cef478aa",
   "metadata": {},
   "outputs": [],
   "source": [
    "country_duration = np.array(country_duration)"
   ]
  },
  {
   "cell_type": "code",
   "execution_count": 32,
   "id": "9d3d0322",
   "metadata": {},
   "outputs": [],
   "source": [
    "countries_duration = {}\n",
    "for k in country_duration:\n",
    "    countries_duration[k[2]] = k[1]\n",
    "countries_duration['SE'] = 97"
   ]
  },
  {
   "cell_type": "code",
   "execution_count": 51,
   "id": "ae5427bc",
   "metadata": {},
   "outputs": [],
   "source": [
    "x = [countries_duration[k] for k in target_countries if k in countries_duration]  #duration\n",
    "#new authors\n",
    "#2019-2020\n",
    "newau2019 = np.array([list(NewAuthors.New_Authors[(NewAuthors.Country==k)&\n",
    "             (NewAuthors.Date=='2019-01:2019-12')])[0]\n",
    "             for k in target_countries if k in countries_duration])\n",
    "# newau2019 = np.array([list(newau2019[i])[0] for i in range(len(newau2019))])\n",
    "newau2020 = np.array([list(NewAuthors.New_Authors[(NewAuthors.Country==k)&\n",
    "             (NewAuthors.Date=='2020-01:2020-12')])[0]\n",
    "             for k in target_countries if k in countries_duration])\n",
    "y_newau_20192020 = newau2020/newau2019\n",
    "#2019-2020 (6 months)\n",
    "newau2019_6 = np.array([list(NewAuthors.New_Authors[(NewAuthors.Country==k)&\n",
    "             (NewAuthors.Date=='2019-01:2019-06')])[0]\n",
    "             for k in target_countries if k in countries_duration])\n",
    "# newau2019 = np.array([list(newau2019[i])[0] for i in range(len(newau2019))])\n",
    "newau2020_6 = np.array([list(NewAuthors.New_Authors[(NewAuthors.Country==k)&\n",
    "             (NewAuthors.Date=='2020-01:2020-06')])[0]\n",
    "             for k in target_countries if k in countries_duration])\n",
    "y_newau_20192020_6 = newau2020_6/newau2019_6\n",
    "\n",
    "#2020-2021\n",
    "newau2020_6 = np.array([list(NewAuthors.New_Authors[(NewAuthors.Country==k)&\n",
    "             (NewAuthors.Date=='2020-01:2020-06')])[0]\n",
    "             for k in target_countries if k in countries_duration])\n",
    "# newau2019 = np.array([list(newau2019[i])[0] for i in range(len(newau2019))])\n",
    "newau2021_6 = np.array([list(NewAuthors.New_Authors[(NewAuthors.Country==k)&\n",
    "             (NewAuthors.Date=='2021-01:2021-06')])[0]\n",
    "             for k in target_countries if k in countries_duration])\n",
    "y_newau_20202021_6 = newau2021_6/newau2020_6\n",
    "#2019-2021 (6 months)\n",
    "y_newau_20192021_6 = newau2021_6/newau2019_6\n",
    "\n",
    "\n",
    "\n",
    "#system productivity\n",
    "#2019-2020\n",
    "sys2019 = np.array([list(SysProd.Productivity[(SysProd.Country==k)&\n",
    "             (SysProd.Date=='2019-01:2019-12')])[0]\n",
    "             for k in target_countries if k in countries_duration])\n",
    "\n",
    "sys2020 = np.array([list(SysProd.Productivity[(SysProd.Country==k)&\n",
    "             (SysProd.Date=='2020-01:2020-12')])[0]\n",
    "             for k in target_countries if k in countries_duration])\n",
    "\n",
    "y_sysprod_20192020 = sys2020/sys2019\n",
    "#2019-2020 (6 months)\n",
    "sys2019_6 = np.array([list(SysProd.Productivity[(SysProd.Country==k)&\n",
    "             (SysProd.Date=='2019-01:2019-06')])[0]\n",
    "             for k in target_countries if k in countries_duration])\n",
    "\n",
    "sys2020_6 = np.array([list(SysProd.Productivity[(SysProd.Country==k)&\n",
    "             (SysProd.Date=='2020-01:2020-06')])[0]\n",
    "             for k in target_countries if k in countries_duration])\n",
    "\n",
    "y_sysprod_20192020_6 = sys2020_6/sys2019_6\n",
    "\n",
    "#2020-2021\n",
    "sys2020_6 = np.array([list(SysProd.Productivity[(SysProd.Country==k)&\n",
    "             (SysProd.Date=='2020-01:2020-06')])[0]\n",
    "             for k in target_countries if k in countries_duration])\n",
    "\n",
    "sys2021_6 = np.array([list(SysProd.Productivity[(SysProd.Country==k)&\n",
    "             (SysProd.Date=='2021-01:2021-06')])[0]\n",
    "             for k in target_countries if k in countries_duration])\n",
    "\n",
    "y_sysprod_20202021_6 = sys2021_6/sys2020_6\n",
    "#2019-2021 (6 months)\n",
    "y_sysprod_20192021_6 = sys2021_6/sys2019_6\n",
    "\n",
    "\n",
    "\n",
    "\n",
    "#individual productivity\n",
    "#2019-2020\n",
    "ind2019 = np.array([list(IndProd.Productivity[(IndProd.Country==k)&\n",
    "             (IndProd.Date=='2019-01:2019-12')])[0]\n",
    "             for k in target_countries if k in countries_duration])\n",
    "\n",
    "ind2020 = np.array([list(IndProd.Productivity[(IndProd.Country==k)&\n",
    "             (IndProd.Date=='2020-01:2020-12')])[0]\n",
    "             for k in target_countries if k in countries_duration])\n",
    "\n",
    "y_indprod_20192020 = ind2020/ind2019\n",
    "#2019-2020 (6 months)\n",
    "ind2019_6 = np.array([list(IndProd.Productivity[(IndProd.Country==k)&\n",
    "             (IndProd.Date=='2019-01:2019-06')])[0]\n",
    "             for k in target_countries if k in countries_duration])\n",
    "\n",
    "ind2020_6 = np.array([list(IndProd.Productivity[(IndProd.Country==k)&\n",
    "             (IndProd.Date=='2020-01:2020-06')])[0]\n",
    "             for k in target_countries if k in countries_duration])\n",
    "\n",
    "y_indprod_20192020_6 = ind2020_6/ind2019_6\n",
    "\n",
    "#2020-2021\n",
    "ind2020_6 = np.array([list(IndProd.Productivity[(IndProd.Country==k)&\n",
    "             (IndProd.Date=='2020-01:2020-06')])[0]\n",
    "             for k in target_countries if k in countries_duration])\n",
    "\n",
    "ind2021_6 = np.array([list(IndProd.Productivity[(IndProd.Country==k)&\n",
    "             (IndProd.Date=='2021-01:2021-06')])[0]\n",
    "             for k in target_countries if k in countries_duration])\n",
    "\n",
    "y_indprod_20202021_6 = ind2021_6/ind2020_6\n",
    "#2019-2021 (6 months)\n",
    "y_indprod_20192021_6 = ind2021_6/ind2019_6\n",
    "\n",
    "z = newau2020\n",
    "country_name0 = [k for k in target_countries if k in countries_duration]\n",
    "# print(country_name)\n",
    "country_name = coco.convert(names = country_name0, to='ISO3', not_found=None) #'name_official'\n",
    "country_group = coco.convert(names = country_name, to='name_official', not_found=None) #'name_official'"
   ]
  },
  {
   "cell_type": "code",
   "execution_count": 52,
   "id": "a215a004",
   "metadata": {},
   "outputs": [],
   "source": [
    "color_dict = {'United States of America':'mediumslateblue','Japan':'coral','Republic of Poland':'turquoise',\n",
    "             'Kingdom of Belgium':'turquoise','French Republic':'turquoise','United Kingdom of Great Britain and Northern Ireland':'turquoise',\n",
    "             \"People's Republic of China\":'coral','Republic of Austria':'turquoise','Canada':'mediumslateblue',\n",
    "             'Republic of India':'coral','Kingdom of Spain':'turquoise','Federative Republic of Brazil':'mediumslateblue',\n",
    "             'Republic of Finland':'turquoise','Kingdom of Denmark':'turquoise','Republic of Korea':'coral',\n",
    "             'Italian Republic':'turquoise','Czech Republic':'turquoise','Kingdom of Sweden':'turquoise',\n",
    "             'Kingdom of Norway':'turquoise','Swiss Confederation':'turquoise','Hellenic Republic':'turquoise',\n",
    "             'Republic of Singapore':'coral','Portuguese Republic':'turquoise','United Mexican States':'mediumslateblue',\n",
    "             'Federal Republic of Germany':'turquoise','Republic of China':'coral','Kingdom of the Netherlands':'turquoise'}"
   ]
  },
  {
   "cell_type": "code",
   "execution_count": 53,
   "id": "680f5ac2",
   "metadata": {},
   "outputs": [],
   "source": [
    "color_list = [color_dict[k] for k in country_group]"
   ]
  },
  {
   "cell_type": "markdown",
   "id": "bad8e7c0",
   "metadata": {},
   "source": [
    "##### new figure： gender gap"
   ]
  },
  {
   "cell_type": "code",
   "execution_count": 54,
   "id": "b7d260a6",
   "metadata": {},
   "outputs": [],
   "source": [
    "#0222 data\n",
    "NewData = pd.read_csv('new data 02222022/ind_productivity_country-gender-seniority.csv')"
   ]
  },
  {
   "cell_type": "code",
   "execution_count": 55,
   "id": "d8c86c2c",
   "metadata": {},
   "outputs": [
    {
     "data": {
      "text/html": [
       "<div>\n",
       "<style scoped>\n",
       "    .dataframe tbody tr th:only-of-type {\n",
       "        vertical-align: middle;\n",
       "    }\n",
       "\n",
       "    .dataframe tbody tr th {\n",
       "        vertical-align: top;\n",
       "    }\n",
       "\n",
       "    .dataframe thead th {\n",
       "        text-align: right;\n",
       "    }\n",
       "</style>\n",
       "<table border=\"1\" class=\"dataframe\">\n",
       "  <thead>\n",
       "    <tr style=\"text-align: right;\">\n",
       "      <th></th>\n",
       "      <th>Country</th>\n",
       "      <th>Date</th>\n",
       "      <th>All</th>\n",
       "      <th>Female</th>\n",
       "      <th>Male</th>\n",
       "      <th>0-1</th>\n",
       "      <th>1-4</th>\n",
       "      <th>4-10</th>\n",
       "      <th>10-999</th>\n",
       "    </tr>\n",
       "  </thead>\n",
       "  <tbody>\n",
       "    <tr>\n",
       "      <th>0</th>\n",
       "      <td>UZ</td>\n",
       "      <td>2015-07</td>\n",
       "      <td>0.285714</td>\n",
       "      <td>0.0</td>\n",
       "      <td>0.300000</td>\n",
       "      <td>0.0</td>\n",
       "      <td>0.0</td>\n",
       "      <td>2.0</td>\n",
       "      <td>0.444444</td>\n",
       "    </tr>\n",
       "    <tr>\n",
       "      <th>1</th>\n",
       "      <td>UZ</td>\n",
       "      <td>2015-08</td>\n",
       "      <td>0.421053</td>\n",
       "      <td>0.0</td>\n",
       "      <td>0.444444</td>\n",
       "      <td>0.0</td>\n",
       "      <td>0.2</td>\n",
       "      <td>2.0</td>\n",
       "      <td>0.555556</td>\n",
       "    </tr>\n",
       "    <tr>\n",
       "      <th>2</th>\n",
       "      <td>UZ</td>\n",
       "      <td>2015-09</td>\n",
       "      <td>0.444444</td>\n",
       "      <td>0.0</td>\n",
       "      <td>0.470588</td>\n",
       "      <td>0.0</td>\n",
       "      <td>0.2</td>\n",
       "      <td>2.0</td>\n",
       "      <td>0.625000</td>\n",
       "    </tr>\n",
       "  </tbody>\n",
       "</table>\n",
       "</div>"
      ],
      "text/plain": [
       "  Country     Date       All  Female      Male  0-1  1-4  4-10    10-999\n",
       "0      UZ  2015-07  0.285714     0.0  0.300000  0.0  0.0   2.0  0.444444\n",
       "1      UZ  2015-08  0.421053     0.0  0.444444  0.0  0.2   2.0  0.555556\n",
       "2      UZ  2015-09  0.444444     0.0  0.470588  0.0  0.2   2.0  0.625000"
      ]
     },
     "execution_count": 55,
     "metadata": {},
     "output_type": "execute_result"
    }
   ],
   "source": [
    "NewData.head(3)"
   ]
  },
  {
   "cell_type": "code",
   "execution_count": 56,
   "id": "98104e6a",
   "metadata": {},
   "outputs": [],
   "source": [
    "x = [countries_duration[k] for k in target_countries if k in countries_duration]  #duration\n",
    "z = newau2020\n",
    "country_name0 = [k for k in target_countries if k in countries_duration]\n",
    "# print(country_name)\n",
    "country_name = coco.convert(names = country_name0, to='ISO3', not_found=None) #'name_official'\n",
    "country_group = coco.convert(names = country_name, to='name_official', not_found=None) #'name_official'\n",
    "\n",
    "ind2021_6_Male = np.array([list(NewData.Male[(NewData.Country==k)&(NewData.Date=='2021-06')])[0]\n",
    "             for k in target_countries if k in countries_duration])\n",
    "ind2021_6_Female = np.array([list(NewData.Female[(NewData.Country==k)&(NewData.Date=='2021-06')])[0]\n",
    "             for k in target_countries if k in countries_duration])\n",
    "\n",
    "ind2021_3_Male = np.array([list(NewData.Male[(NewData.Country==k)&(NewData.Date=='2021-03')])[0]\n",
    "             for k in target_countries if k in countries_duration])\n",
    "ind2021_3_Female = np.array([list(NewData.Female[(NewData.Country==k)&(NewData.Date=='2021-03')])[0]\n",
    "             for k in target_countries if k in countries_duration])\n",
    "\n",
    "\n",
    "\n",
    "\n",
    "ind2020_3_Male = np.array([list(NewData.Male[(NewData.Country==k)&(NewData.Date=='2020-03')])[0]\n",
    "             for k in target_countries if k in countries_duration])\n",
    "ind2020_3_Female = np.array([list(NewData.Female[(NewData.Country==k)&(NewData.Date=='2020-03')])[0]\n",
    "             for k in target_countries if k in countries_duration])\n",
    "\n",
    "ind2020_2_Male = np.array([list(NewData.Male[(NewData.Country==k)&(NewData.Date=='2020-02')])[0]\n",
    "             for k in target_countries if k in countries_duration])\n",
    "ind2020_2_Female = np.array([list(NewData.Female[(NewData.Country==k)&(NewData.Date=='2020-02')])[0]\n",
    "             for k in target_countries if k in countries_duration])\n",
    "\n",
    "\n",
    "ind2019_3_Male = np.array([list(NewData.Male[(NewData.Country==k)&(NewData.Date=='2019-03')])[0]\n",
    "             for k in target_countries if k in countries_duration])\n",
    "ind2019_3_Female = np.array([list(NewData.Female[(NewData.Country==k)&(NewData.Date=='2019-03')])[0]\n",
    "             for k in target_countries if k in countries_duration])\n",
    "\n",
    "ind2019_6_Male = np.array([list(NewData.Male[(NewData.Country==k)&(NewData.Date=='2019-06')])[0]\n",
    "             for k in target_countries if k in countries_duration])\n",
    "ind2019_6_Female = np.array([list(NewData.Female[(NewData.Country==k)&(NewData.Date=='2019-06')])[0]\n",
    "             for k in target_countries if k in countries_duration])"
   ]
  },
  {
   "cell_type": "code",
   "execution_count": 109,
   "id": "fd42ef17",
   "metadata": {},
   "outputs": [],
   "source": [
    "x = x\n",
    "z0 = [pub_CT[k] for k in country_name0]\n",
    "y1 = y_indprod_20192021_6\n",
    "y2 = (ind2021_6_Male - ind2021_6_Female)/(ind2020_3_Male - ind2020_3_Female)\n",
    "# y2 = y_indprod_20192020_6\n",
    "Y = [y1,y2]\n",
    "# Y_Label = [\n",
    "#     'Individual productivity Jan-June 2020\\nIndividual productivity Jan-June 2019',\n",
    "#     'Individual productivity Jan-June 2021\\nIndividual productivity Jan-June 2019'\n",
    "#            ]\n",
    "Y_Label = [\n",
    "    'Individual productivity\\n Jan-Jun 2021 / Jan-Jun 2019',\n",
    "    'Gendered productivity gap\\n Jun 2021 / Mar 2020'\n",
    "           ]\n",
    "z = [k/500 for k in z0]\n",
    "Title = ['Individual productivity','Individual productivity']"
   ]
  },
  {
   "cell_type": "code",
   "execution_count": 110,
   "id": "868c4f99",
   "metadata": {},
   "outputs": [],
   "source": [
    "import matplotlib.gridspec as gridspec"
   ]
  },
  {
   "cell_type": "code",
   "execution_count": 33,
   "id": "1e34d70d",
   "metadata": {},
   "outputs": [],
   "source": [
    "l_index = ['b)','c)']\n",
    "sns.set(style='ticks', font_scale=0.75, font='Arial')\n",
    "fig = plt.figure(tight_layout=True,figsize=[10,7])  #22,14\n",
    "gs = gridspec.GridSpec(2, 2)\n",
    "\n",
    "ax0 = fig.add_subplot(gs[:, 0])\n",
    "Data = Data_closure_alp\n",
    "Y_ticks = Y_closure_alp\n",
    "my_cmap = matplotlib.colors.ListedColormap(['lightcoral','mediumspringgreen']) #'orangered','skyblue','aquamarine''''\n",
    "c = ax0.pcolor(Data,cmap=my_cmap,alpha = 0.6,edgecolors=None)\n",
    "c = plt.xticks(ticks=col,labels=X_ticks)\n",
    "c = plt.yticks(ticks=y_ticks,labels=Y_ticks,rotation=0)\n",
    "ax0.xaxis.set_ticks_position('bottom')\n",
    "# for k in range(len(Y_closure_alp)):\n",
    "#     ax0.get_yticklabels()[k].set_fontweight(\"bold\")\n",
    "# for k in range(12):\n",
    "#     ax0.get_xticklabels()[k].set_fontweight(\"bold\")\n",
    "\n",
    "ax1 = ax0.twiny() # the reason why it works\n",
    "# ax2.set_ylabel('survival rate',font1)\n",
    "ax1.pcolor(Data1,cmap=my_cmap,alpha = 0.1,edgecolors='k')\n",
    "ax1.set_xticks([])\n",
    "ax1.spines['top'].set_visible(False)\n",
    "\n",
    "ax0.bar([2],height=0,label='daycares and primary schools closed',color='lightcoral',alpha=0.6)\n",
    "ax0.bar([2],height=0,label='daycares and primary schools open',color='mediumspringgreen',alpha=0.6)\n",
    "# legend_properties = {'weight':'normal','size':8}\n",
    "ax0.legend(loc=(-0.21,-0.3), bbox_to_anchor=(0.1, 0.1, 6/10, 3/5), borderaxespad=0,edgecolor='white',ncol=2,fontsize=6.5)#prop = legend_properties, \n",
    "font = { 'weight': 'bold',\n",
    "             'size': 15,\n",
    "        'family':'Arial'\n",
    "             }\n",
    "ax0.text(-0.27, 1.0,'a)', fontdict=font,ha='center', va='center', transform=ax0.transAxes)\n",
    "# font = { 'weight': 'normal',\n",
    "#          'size': 15,\n",
    "#          }\n",
    "\n",
    "\n",
    "\n",
    "row_list = [0,1]\n",
    "for i in row_list:\n",
    "    ax = fig.add_subplot(gs[i, 1])\n",
    "    y = Y[i]\n",
    "    scatter = ax.scatter(x, y, s=z, alpha=0.8,c=color_list,edgecolor='white')\n",
    "    ax.plot([0,360],[1,1],ls='--',color='grey')\n",
    "#     handles, labels = scatter.legend_elements(prop=\"sizes\", alpha=0.6)\n",
    "#     legend2 = ax.legend(handles, labels, loc=\"upper right\", title=\"Sizes\")\n",
    "    manually = [21,9,17,10,24,19,4,18,23,11,16,12,2,7,8,20,25,26,6,3,13]     #若图片作大改动，这里需要改变\n",
    "    for ii in range(len(x)):\n",
    "        if ii not in manually:\n",
    "            ax.text(x[ii]*0.99, y[ii]*1.005, country_name[ii], \n",
    "                    fontsize=5, color = \"dimgrey\", style = \"italic\", weight = \"light\",\n",
    "                    verticalalignment='center', horizontalalignment='right',rotation=0) #给散点加标签\n",
    "#     fts = 7\n",
    "#     #挨个调整国家的图例位置\n",
    "#     #USA\n",
    "#     ii = 0\n",
    "#     ax.text(x[ii]*1.05, y[ii]*0.975, country_name[ii], fontsize=fts, color = \"dimgrey\", style = \"italic\", weight = \"light\",verticalalignment='center', horizontalalignment='right',rotation=0) #给散点加标签\n",
    "    ii = 2\n",
    "    ax.text(x[ii]*1.08, y[ii]*1.0, country_name[ii], fontsize=5, color = \"dimgrey\", style = \"italic\", weight = \"light\",verticalalignment='center', horizontalalignment='right',rotation=0) \n",
    "    ii = 3\n",
    "    ax.text(x[ii]*1.15, y[ii]*0.99, country_name[ii], fontsize=5, color = \"dimgrey\", style = \"italic\", weight = \"light\",verticalalignment='center', horizontalalignment='right',rotation=0) \n",
    "    ii = 4\n",
    "    ax.text(x[ii]*0.99, y[ii]*0.99, country_name[ii], fontsize=5, color = \"dimgrey\", style = \"italic\", weight = \"light\",verticalalignment='center', horizontalalignment='right',rotation=0) \n",
    "#     ii = 5\n",
    "#     ax.text(x[ii]*1.17, y[ii]*0.99, country_name[ii], fontsize=10, color = \"dimgrey\", style = \"italic\", weight = \"light\",verticalalignment='center', horizontalalignment='right',rotation=0) \n",
    "    ii = 6 #JPN\n",
    "    ax.text(x[ii]*1.05, y[ii]*1.00, country_name[ii], fontsize=5, color = \"dimgrey\", style = \"italic\", weight = \"light\",verticalalignment='center', horizontalalignment='right',rotation=0) \n",
    "    ii = 7 #TWN\n",
    "    ax.text(x[ii]*1.05, y[ii]*1.01, country_name[ii], fontsize=5, color = \"dimgrey\", style = \"italic\", weight = \"light\",verticalalignment='center', horizontalalignment='right',rotation=0) \n",
    "    ii = 8\n",
    "    ax.text(x[ii]*0.99, y[ii]*0.97, country_name[ii], fontsize=5, color = \"dimgrey\", style = \"italic\", weight = \"light\",verticalalignment='center', horizontalalignment='right',rotation=0) \n",
    "    ii = 9\n",
    "    ax.text(x[ii]*1.00, y[ii]*0.96, country_name[ii], fontsize=5, color = \"dimgrey\", style = \"italic\", weight = \"light\",verticalalignment='center', horizontalalignment='right',rotation=0) \n",
    "    ii = 10\n",
    "    ax.text(x[ii]*1.2, y[ii]*0.985, country_name[ii], fontsize=5, color = \"dimgrey\", style = \"italic\", weight = \"light\",verticalalignment='center', horizontalalignment='right',rotation=0) \n",
    "    ii = 11  #ITA\n",
    "    ax.text(x[ii]*1.08, y[ii]*1.00, country_name[ii], fontsize=5, color = \"dimgrey\", style = \"italic\", weight = \"light\",verticalalignment='center', horizontalalignment='right',rotation=0) \n",
    "    ii = 12\n",
    "    ax.text(x[ii]*1.02, y[ii]*0.985, country_name[ii], fontsize=5, color = \"dimgrey\", style = \"italic\", weight = \"light\",verticalalignment='center', horizontalalignment='right',rotation=0) \n",
    "    ii = 13\n",
    "    ax.text(x[ii]*0.975, y[ii]*1.015, country_name[ii], fontsize=5, color = \"dimgrey\", style = \"italic\", weight = \"light\",verticalalignment='center', horizontalalignment='right',rotation=0) \n",
    "#     ii = 14\n",
    "#     ax.text(x[ii]*0.99, y[ii]*1.005, country_name[ii], fontsize=10, color = \"dimgrey\", style = \"italic\", weight = \"light\",verticalalignment='center', horizontalalignment='right',rotation=0) \n",
    "#     ii = 15\n",
    "#     ax.text(x[ii]*0.99, y[ii]*1.005, country_name[ii], fontsize=10, color = \"dimgrey\", style = \"italic\", weight = \"light\",verticalalignment='center', horizontalalignment='right',rotation=0) \n",
    "    ii = 16 #INA\n",
    "    ax.text(x[ii]*1.06, y[ii]*1.009, country_name[ii], fontsize=5, color = \"dimgrey\", style = \"italic\", weight = \"light\",verticalalignment='center', horizontalalignment='right',rotation=0) \n",
    "    ii = 17 #CAN\n",
    "    ax.text(x[ii]*0.99, y[ii]*0.97, country_name[ii], fontsize=5, color = \"dimgrey\", style = \"italic\", weight = \"light\",verticalalignment='center', horizontalalignment='right',rotation=0) \n",
    "    ii = 18\n",
    "    ax.text(x[ii]*1.19, y[ii]*0.995, country_name[ii], fontsize=5, color = \"dimgrey\", style = \"italic\", weight = \"light\",verticalalignment='center', horizontalalignment='right',rotation=0) \n",
    "    ii = 19\n",
    "    ax.text(x[ii]*1.0, y[ii]*1.005, country_name[ii], fontsize=5, color = \"dimgrey\", style = \"italic\", weight = \"light\",verticalalignment='center', horizontalalignment='right',rotation=0) \n",
    "    ii = 20 #JAN\n",
    "    ax.text(x[ii]*1.05, y[ii]*1.005, country_name[ii], fontsize=5, color = \"dimgrey\", style = \"italic\", weight = \"light\",verticalalignment='center', horizontalalignment='right',rotation=0) \n",
    "    ii = 21 #ITA\n",
    "    ax.text(x[ii]*1.08, y[ii]*1.0, country_name[ii], fontsize=5, color = \"dimgrey\", style = \"italic\", weight = \"light\",verticalalignment='center', horizontalalignment='right',rotation=0) \n",
    "#     ii = 22\n",
    "#     ax.text(x[ii]*0.99, y[ii]*1.005, country_name[ii], fontsize=10, color = \"dimgrey\", style = \"italic\", weight = \"light\",verticalalignment='center', horizontalalignment='right',rotation=0) \n",
    "    ii = 23 #USA\n",
    "    ax.text(x[ii]*1.0, y[ii]*1.00, country_name[ii], fontsize=5, color = \"dimgrey\", style = \"italic\", weight = \"light\",verticalalignment='center', horizontalalignment='right',rotation=0) \n",
    "    ii = 24\n",
    "    ax.text(x[ii]*1.1, y[ii]*1.05, country_name[ii], fontsize=5, color = \"dimgrey\", style = \"italic\", weight = \"light\",verticalalignment='center', horizontalalignment='right',rotation=0) \n",
    "    ii = 25 #BRA\n",
    "    ax.text(x[ii]*1.05, y[ii]*1.00, country_name[ii], fontsize=5, color = \"dimgrey\", style = \"italic\", weight = \"light\",verticalalignment='center', horizontalalignment='right',rotation=0) \n",
    "    ii = 26  #CAN\n",
    "    ax.text(x[ii]*1.05, y[ii]*1.01, country_name[ii], fontsize=5, color = \"dimgrey\", style = \"italic\", weight = \"light\",verticalalignment='center', horizontalalignment='right',rotation=0) \n",
    "# #     ii = 27\n",
    "# #     ax.text(x[ii]*0.99, y[ii]*1.005, country_name[ii], fontsize=10, color = \"dimgrey\", style = \"italic\", weight = \"light\",verticalalignment='center', horizontalalignment='right',rotation=0) \n",
    "# #     ax.text(x[ii]*0.99, y[ii]*1.005, country_name[ii], fontsize=10, color = \"dimgrey\", style = \"italic\", weight = \"light\",verticalalignment='center', horizontalalignment='right',rotation=0) \n",
    "        \n",
    "    \n",
    "        \n",
    "#     ax.set_title('new authors',font) \n",
    "    ax.set_xlabel('days of closure')\n",
    "    ax.set_ylabel(Y_Label[i])\n",
    "    if i==0:\n",
    "        ax.set_ylim([0.6,1.4])\n",
    "    else:\n",
    "        ax.set_ylim([-6,6])\n",
    "#     ax.set_title(Title[i], font)\n",
    "    ax.grid(True,color='lightgrey',ls='dotted')\n",
    "    \n",
    "    ax.text(-0.14, 1.0,l_index[i], fontdict=font,ha='center', va='center', transform=ax.transAxes)\n",
    "    g = ax.scatter([],[], s=1**0.5, marker='o', color='white')\n",
    "    gll = ax.scatter([],[], s=20000/500, marker='o', edgecolor=None,color='darkgrey')\n",
    "    gl = ax.scatter([],[], s=100000/500, marker='o', edgecolor=None,color='darkgrey')\n",
    "    ga = ax.scatter([],[], s=400000/500, marker='o', edgecolor=None,color='darkgrey')\n",
    "    cn = ax.scatter([],[], s=1**0.5, marker='o', color='white')\n",
    "    cas = ax.scatter([],[], s=50000/500, marker='o', edgecolor=None,color='coral')\n",
    "    ceu = ax.scatter([],[], s=50000/500, marker='o', edgecolor=None,color='turquoise')\n",
    "    cam = ax.scatter([],[], s=50000/500, marker='o', edgecolor=None,color='mediumslateblue')\n",
    "    #mediumslateblue coral turquoise\n",
    "    if i==0:\n",
    "        legend = ax.legend((ga,gl,gll,cas,ceu,cam),\n",
    "               ('  500000', '  100000', '  20000',\n",
    "               'Asia','Europe','America'),\n",
    "               scatterpoints=1,\n",
    "#                loc='upper right',\n",
    "               loc=(0.45,0.5),\n",
    "               ncol=2,\n",
    "               fontsize=7.5,\n",
    "                handlelength=2, borderpad=1,labelspacing=2.2)#handlelength=1.5, borderpad=0.5, labelspacing=2\n",
    "        frame = legend.get_frame() \n",
    "        frame.set_alpha(1) \n",
    "        frame.set_facecolor('none') \n",
    "        legend.get_frame().set_linewidth(0.0)\n",
    "\n",
    "        ax.text(0.61, 0.965,'Publications 2020',ha='center', va='center', transform=ax.transAxes,fontsize=7.5) #fontdict=font,\n",
    "        ax.text(0.84, 0.965,'Continent',ha='center', va='center', transform=ax.transAxes,fontsize=7.5) #fo\n",
    "# fig.savefig('NPI_panel.pdf')\n"
   ]
  }
 ],
 "metadata": {
  "kernelspec": {
   "display_name": "Python 3",
   "language": "python",
   "name": "python3"
  },
  "language_info": {
   "codemirror_mode": {
    "name": "ipython",
    "version": 3
   },
   "file_extension": ".py",
   "mimetype": "text/x-python",
   "name": "python",
   "nbconvert_exporter": "python",
   "pygments_lexer": "ipython3",
   "version": "3.8.3"
  }
 },
 "nbformat": 4,
 "nbformat_minor": 5
}
